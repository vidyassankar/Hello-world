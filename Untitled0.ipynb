{
  "nbformat": 4,
  "nbformat_minor": 0,
  "metadata": {
    "colab": {
      "name": "Untitled0.ipynb",
      "provenance": [],
      "collapsed_sections": [],
      "toc_visible": true,
      "authorship_tag": "ABX9TyNeZbw0XNHVharlf2dB5kl1",
      "include_colab_link": true
    },
    "kernelspec": {
      "name": "python3",
      "display_name": "Python 3"
    }
  },
  "cells": [
    {
      "cell_type": "markdown",
      "metadata": {
        "id": "view-in-github",
        "colab_type": "text"
      },
      "source": [
        "<a href=\"https://colab.research.google.com/github/vidyassankar/Hello-world/blob/master/Untitled0.ipynb\" target=\"_parent\"><img src=\"https://colab.research.google.com/assets/colab-badge.svg\" alt=\"Open In Colab\"/></a>"
      ]
    },
    {
      "cell_type": "code",
      "metadata": {
        "id": "lHvaG-odKKUD",
        "colab_type": "code",
        "colab": {
          "base_uri": "https://localhost:8080/",
          "height": 208
        },
        "outputId": "93f6a8d7-1b27-4030-e736-2fcb33de0b2f"
      },
      "source": [
        "from google.colab import files\n",
        " \n",
        "!pip install kaggle"
      ],
      "execution_count": null,
      "outputs": [
        {
          "output_type": "stream",
          "text": [
            "Requirement already satisfied: kaggle in /usr/local/lib/python3.6/dist-packages (1.5.6)\n",
            "Requirement already satisfied: certifi in /usr/local/lib/python3.6/dist-packages (from kaggle) (2020.4.5.2)\n",
            "Requirement already satisfied: six>=1.10 in /usr/local/lib/python3.6/dist-packages (from kaggle) (1.12.0)\n",
            "Requirement already satisfied: python-slugify in /usr/local/lib/python3.6/dist-packages (from kaggle) (4.0.0)\n",
            "Requirement already satisfied: python-dateutil in /usr/local/lib/python3.6/dist-packages (from kaggle) (2.8.1)\n",
            "Requirement already satisfied: urllib3<1.25,>=1.21.1 in /usr/local/lib/python3.6/dist-packages (from kaggle) (1.24.3)\n",
            "Requirement already satisfied: tqdm in /usr/local/lib/python3.6/dist-packages (from kaggle) (4.41.1)\n",
            "Requirement already satisfied: requests in /usr/local/lib/python3.6/dist-packages (from kaggle) (2.23.0)\n",
            "Requirement already satisfied: text-unidecode>=1.3 in /usr/local/lib/python3.6/dist-packages (from python-slugify->kaggle) (1.3)\n",
            "Requirement already satisfied: chardet<4,>=3.0.2 in /usr/local/lib/python3.6/dist-packages (from requests->kaggle) (3.0.4)\n",
            "Requirement already satisfied: idna<3,>=2.5 in /usr/local/lib/python3.6/dist-packages (from requests->kaggle) (2.9)\n"
          ],
          "name": "stdout"
        }
      ]
    },
    {
      "cell_type": "markdown",
      "metadata": {
        "id": "prAxyZ-mHnY1",
        "colab_type": "text"
      },
      "source": [
        "Lets start solving Titanic problem. We have a dataset which has the information of the people who survived the accident .\n",
        "\n",
        "First import the necessary modules"
      ]
    },
    {
      "cell_type": "code",
      "metadata": {
        "id": "rlHeCCR7b4IP",
        "colab_type": "code",
        "colab": {}
      },
      "source": [
        "import numpy as np\n",
        "import pandas as pd\n",
        "import seaborn as sns\n",
        "import matplotlib.pyplot as plt\n",
        "%matplotlib inline\n"
      ],
      "execution_count": null,
      "outputs": []
    },
    {
      "cell_type": "markdown",
      "metadata": {
        "id": "0GbAeahE2t14",
        "colab_type": "text"
      },
      "source": [
        "Importing API token from Kaggle"
      ]
    },
    {
      "cell_type": "code",
      "metadata": {
        "id": "EsAt7bApxBbJ",
        "colab_type": "code",
        "colab": {
          "resources": {
            "http://localhost:8080/nbextensions/google.colab/files.js": {
              "data": "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",
              "ok": true,
              "headers": [
                [
                  "content-type",
                  "application/javascript"
                ]
              ],
              "status": 200,
              "status_text": ""
            }
          },
          "base_uri": "https://localhost:8080/",
          "height": 72
        },
        "outputId": "b2604052-feb8-41ac-d6d4-f4565a7c3ffc"
      },
      "source": [
        "#uploading files\n",
        "upload = files.upload()"
      ],
      "execution_count": null,
      "outputs": [
        {
          "output_type": "display_data",
          "data": {
            "text/html": [
              "\n",
              "     <input type=\"file\" id=\"files-0c52dc0e-c82e-4ba9-889d-b48e98d06914\" name=\"files[]\" multiple disabled\n",
              "        style=\"border:none\" />\n",
              "     <output id=\"result-0c52dc0e-c82e-4ba9-889d-b48e98d06914\">\n",
              "      Upload widget is only available when the cell has been executed in the\n",
              "      current browser session. Please rerun this cell to enable.\n",
              "      </output>\n",
              "      <script src=\"/nbextensions/google.colab/files.js\"></script> "
            ],
            "text/plain": [
              "<IPython.core.display.HTML object>"
            ]
          },
          "metadata": {
            "tags": []
          }
        },
        {
          "output_type": "stream",
          "text": [
            "Saving kaggle.json to kaggle.json\n"
          ],
          "name": "stdout"
        }
      ]
    },
    {
      "cell_type": "code",
      "metadata": {
        "id": "G3AlJdzwwSt-",
        "colab_type": "code",
        "colab": {}
      },
      "source": [
        "#Making directory named 'kaggle'\n",
        "!mkdir ~/.kaggle"
      ],
      "execution_count": null,
      "outputs": []
    },
    {
      "cell_type": "code",
      "metadata": {
        "id": "t-YzjPPoxI-Q",
        "colab_type": "code",
        "colab": {}
      },
      "source": [
        "#Copying kaggle API token to kaggle directory\n",
        "!cp kaggle.json ~/.kaggle"
      ],
      "execution_count": null,
      "outputs": []
    },
    {
      "cell_type": "code",
      "metadata": {
        "id": "F9J8sP7PxOCy",
        "colab_type": "code",
        "colab": {}
      },
      "source": [
        "#Changing permission of kaggle directory\n",
        "!chmod 600 ~/.kaggle/kaggle.json"
      ],
      "execution_count": null,
      "outputs": []
    },
    {
      "cell_type": "code",
      "metadata": {
        "id": "c7o0IiTdxTGU",
        "colab_type": "code",
        "colab": {}
      },
      "source": [
        "!kaggle competitions list"
      ],
      "execution_count": null,
      "outputs": []
    },
    {
      "cell_type": "code",
      "metadata": {
        "id": "I1dUjnl4xWhX",
        "colab_type": "code",
        "colab": {
          "base_uri": "https://localhost:8080/",
          "height": 190
        },
        "outputId": "b270bf67-0202-4387-defa-3215acbeeeae"
      },
      "source": [
        "#Downloading Titanic dataset\n",
        "#!kaggle datasets download -d mlg-ulb/titanic\n",
        "!kaggle competitions download -c titanic\n"
      ],
      "execution_count": null,
      "outputs": [
        {
          "output_type": "stream",
          "text": [
            "Warning: Looks like you're using an outdated API Version, please consider updating (server 1.5.6 / client 1.5.4)\n",
            "Downloading test.csv to /content\n",
            "  0% 0.00/28.0k [00:00<?, ?B/s]\n",
            "100% 28.0k/28.0k [00:00<00:00, 10.9MB/s]\n",
            "Downloading gender_submission.csv to /content\n",
            "  0% 0.00/3.18k [00:00<?, ?B/s]\n",
            "100% 3.18k/3.18k [00:00<00:00, 3.29MB/s]\n",
            "Downloading train.csv to /content\n",
            "  0% 0.00/59.8k [00:00<?, ?B/s]\n",
            "100% 59.8k/59.8k [00:00<00:00, 63.1MB/s]\n"
          ],
          "name": "stdout"
        }
      ]
    },
    {
      "cell_type": "code",
      "metadata": {
        "id": "3a6Xm4kJzsdK",
        "colab_type": "code",
        "colab": {
          "base_uri": "https://localhost:8080/",
          "height": 34
        },
        "outputId": "46fa701a-0377-4faa-dbbe-06dc376c6727"
      },
      "source": [
        "!ls"
      ],
      "execution_count": null,
      "outputs": [
        {
          "output_type": "stream",
          "text": [
            "gender_submission.csv  kaggle.json  sample_data  test.csv  train.csv\n"
          ],
          "name": "stdout"
        }
      ]
    },
    {
      "cell_type": "markdown",
      "metadata": {
        "id": "SIZyvyxx6jW2",
        "colab_type": "text"
      },
      "source": [
        "# **Understanding Data and Identifying the variables**"
      ]
    },
    {
      "cell_type": "code",
      "metadata": {
        "id": "ijD7CD1EsCnn",
        "colab_type": "code",
        "colab": {
          "base_uri": "https://localhost:8080/",
          "height": 237
        },
        "outputId": "595d90da-c14a-426c-e960-18123c7da27f"
      },
      "source": [
        "#Reading the data file (training set)\n",
        "TR_Data=pd.read_csv('train.csv')\n",
        "\n",
        "#Displaying the first few lines of training set\n",
        "\n",
        "TR_Data.head(5)"
      ],
      "execution_count": null,
      "outputs": [
        {
          "output_type": "execute_result",
          "data": {
            "text/html": [
              "<div>\n",
              "<style scoped>\n",
              "    .dataframe tbody tr th:only-of-type {\n",
              "        vertical-align: middle;\n",
              "    }\n",
              "\n",
              "    .dataframe tbody tr th {\n",
              "        vertical-align: top;\n",
              "    }\n",
              "\n",
              "    .dataframe thead th {\n",
              "        text-align: right;\n",
              "    }\n",
              "</style>\n",
              "<table border=\"1\" class=\"dataframe\">\n",
              "  <thead>\n",
              "    <tr style=\"text-align: right;\">\n",
              "      <th></th>\n",
              "      <th>PassengerId</th>\n",
              "      <th>Survived</th>\n",
              "      <th>Pclass</th>\n",
              "      <th>Name</th>\n",
              "      <th>Sex</th>\n",
              "      <th>Age</th>\n",
              "      <th>SibSp</th>\n",
              "      <th>Parch</th>\n",
              "      <th>Ticket</th>\n",
              "      <th>Fare</th>\n",
              "      <th>Cabin</th>\n",
              "      <th>Embarked</th>\n",
              "    </tr>\n",
              "  </thead>\n",
              "  <tbody>\n",
              "    <tr>\n",
              "      <th>0</th>\n",
              "      <td>1</td>\n",
              "      <td>0</td>\n",
              "      <td>3</td>\n",
              "      <td>Braund, Mr. Owen Harris</td>\n",
              "      <td>male</td>\n",
              "      <td>22.0</td>\n",
              "      <td>1</td>\n",
              "      <td>0</td>\n",
              "      <td>A/5 21171</td>\n",
              "      <td>7.2500</td>\n",
              "      <td>NaN</td>\n",
              "      <td>S</td>\n",
              "    </tr>\n",
              "    <tr>\n",
              "      <th>1</th>\n",
              "      <td>2</td>\n",
              "      <td>1</td>\n",
              "      <td>1</td>\n",
              "      <td>Cumings, Mrs. John Bradley (Florence Briggs Th...</td>\n",
              "      <td>female</td>\n",
              "      <td>38.0</td>\n",
              "      <td>1</td>\n",
              "      <td>0</td>\n",
              "      <td>PC 17599</td>\n",
              "      <td>71.2833</td>\n",
              "      <td>C85</td>\n",
              "      <td>C</td>\n",
              "    </tr>\n",
              "    <tr>\n",
              "      <th>2</th>\n",
              "      <td>3</td>\n",
              "      <td>1</td>\n",
              "      <td>3</td>\n",
              "      <td>Heikkinen, Miss. Laina</td>\n",
              "      <td>female</td>\n",
              "      <td>26.0</td>\n",
              "      <td>0</td>\n",
              "      <td>0</td>\n",
              "      <td>STON/O2. 3101282</td>\n",
              "      <td>7.9250</td>\n",
              "      <td>NaN</td>\n",
              "      <td>S</td>\n",
              "    </tr>\n",
              "    <tr>\n",
              "      <th>3</th>\n",
              "      <td>4</td>\n",
              "      <td>1</td>\n",
              "      <td>1</td>\n",
              "      <td>Futrelle, Mrs. Jacques Heath (Lily May Peel)</td>\n",
              "      <td>female</td>\n",
              "      <td>35.0</td>\n",
              "      <td>1</td>\n",
              "      <td>0</td>\n",
              "      <td>113803</td>\n",
              "      <td>53.1000</td>\n",
              "      <td>C123</td>\n",
              "      <td>S</td>\n",
              "    </tr>\n",
              "    <tr>\n",
              "      <th>4</th>\n",
              "      <td>5</td>\n",
              "      <td>0</td>\n",
              "      <td>3</td>\n",
              "      <td>Allen, Mr. William Henry</td>\n",
              "      <td>male</td>\n",
              "      <td>35.0</td>\n",
              "      <td>0</td>\n",
              "      <td>0</td>\n",
              "      <td>373450</td>\n",
              "      <td>8.0500</td>\n",
              "      <td>NaN</td>\n",
              "      <td>S</td>\n",
              "    </tr>\n",
              "  </tbody>\n",
              "</table>\n",
              "</div>"
            ],
            "text/plain": [
              "   PassengerId  Survived  Pclass  ...     Fare Cabin  Embarked\n",
              "0            1         0       3  ...   7.2500   NaN         S\n",
              "1            2         1       1  ...  71.2833   C85         C\n",
              "2            3         1       3  ...   7.9250   NaN         S\n",
              "3            4         1       1  ...  53.1000  C123         S\n",
              "4            5         0       3  ...   8.0500   NaN         S\n",
              "\n",
              "[5 rows x 12 columns]"
            ]
          },
          "metadata": {
            "tags": []
          },
          "execution_count": 30
        }
      ]
    },
    {
      "cell_type": "code",
      "metadata": {
        "id": "DOV-TaaG04hX",
        "colab_type": "code",
        "colab": {
          "base_uri": "https://localhost:8080/",
          "height": 34
        },
        "outputId": "e0675af0-06fe-463e-9705-67dc7ec14f72"
      },
      "source": [
        "#Size of data ie row x cloumn\n",
        "TR_Data.size"
      ],
      "execution_count": null,
      "outputs": [
        {
          "output_type": "execute_result",
          "data": {
            "text/plain": [
              "10692"
            ]
          },
          "metadata": {
            "tags": []
          },
          "execution_count": 31
        }
      ]
    },
    {
      "cell_type": "code",
      "metadata": {
        "id": "UVKcbFRt15LF",
        "colab_type": "code",
        "colab": {
          "base_uri": "https://localhost:8080/",
          "height": 34
        },
        "outputId": "37c296d1-8d78-463c-8840-063b2af19c03"
      },
      "source": [
        "#Shape of data which is the number of rows and columns\n",
        "TR_Data.shape"
      ],
      "execution_count": null,
      "outputs": [
        {
          "output_type": "execute_result",
          "data": {
            "text/plain": [
              "(891, 12)"
            ]
          },
          "metadata": {
            "tags": []
          },
          "execution_count": 32
        }
      ]
    },
    {
      "cell_type": "code",
      "metadata": {
        "id": "CUkAI0du2D0Q",
        "colab_type": "code",
        "colab": {
          "base_uri": "https://localhost:8080/",
          "height": 34
        },
        "outputId": "3b123ac3-c70c-4439-a9fe-baf0da5d752e"
      },
      "source": [
        "#Dimension of the array/data\n",
        "TR_Data.ndim"
      ],
      "execution_count": null,
      "outputs": [
        {
          "output_type": "execute_result",
          "data": {
            "text/plain": [
              "2"
            ]
          },
          "metadata": {
            "tags": []
          },
          "execution_count": 33
        }
      ]
    },
    {
      "cell_type": "code",
      "metadata": {
        "id": "9itdVe1KGKMg",
        "colab_type": "code",
        "colab": {
          "base_uri": "https://localhost:8080/",
          "height": 294
        },
        "outputId": "90538bff-36e2-4464-defd-097c85a9e08f"
      },
      "source": [
        "# Describe function provides colum vise results such as percentiles, mean, meadian, mode etc\n",
        "TR_Data.describe()"
      ],
      "execution_count": null,
      "outputs": [
        {
          "output_type": "execute_result",
          "data": {
            "text/html": [
              "<div>\n",
              "<style scoped>\n",
              "    .dataframe tbody tr th:only-of-type {\n",
              "        vertical-align: middle;\n",
              "    }\n",
              "\n",
              "    .dataframe tbody tr th {\n",
              "        vertical-align: top;\n",
              "    }\n",
              "\n",
              "    .dataframe thead th {\n",
              "        text-align: right;\n",
              "    }\n",
              "</style>\n",
              "<table border=\"1\" class=\"dataframe\">\n",
              "  <thead>\n",
              "    <tr style=\"text-align: right;\">\n",
              "      <th></th>\n",
              "      <th>PassengerId</th>\n",
              "      <th>Survived</th>\n",
              "      <th>Pclass</th>\n",
              "      <th>Age</th>\n",
              "      <th>SibSp</th>\n",
              "      <th>Parch</th>\n",
              "      <th>Fare</th>\n",
              "    </tr>\n",
              "  </thead>\n",
              "  <tbody>\n",
              "    <tr>\n",
              "      <th>count</th>\n",
              "      <td>891.000000</td>\n",
              "      <td>891.000000</td>\n",
              "      <td>891.000000</td>\n",
              "      <td>714.000000</td>\n",
              "      <td>891.000000</td>\n",
              "      <td>891.000000</td>\n",
              "      <td>891.000000</td>\n",
              "    </tr>\n",
              "    <tr>\n",
              "      <th>mean</th>\n",
              "      <td>446.000000</td>\n",
              "      <td>0.383838</td>\n",
              "      <td>2.308642</td>\n",
              "      <td>29.699118</td>\n",
              "      <td>0.523008</td>\n",
              "      <td>0.381594</td>\n",
              "      <td>32.204208</td>\n",
              "    </tr>\n",
              "    <tr>\n",
              "      <th>std</th>\n",
              "      <td>257.353842</td>\n",
              "      <td>0.486592</td>\n",
              "      <td>0.836071</td>\n",
              "      <td>14.526497</td>\n",
              "      <td>1.102743</td>\n",
              "      <td>0.806057</td>\n",
              "      <td>49.693429</td>\n",
              "    </tr>\n",
              "    <tr>\n",
              "      <th>min</th>\n",
              "      <td>1.000000</td>\n",
              "      <td>0.000000</td>\n",
              "      <td>1.000000</td>\n",
              "      <td>0.420000</td>\n",
              "      <td>0.000000</td>\n",
              "      <td>0.000000</td>\n",
              "      <td>0.000000</td>\n",
              "    </tr>\n",
              "    <tr>\n",
              "      <th>25%</th>\n",
              "      <td>223.500000</td>\n",
              "      <td>0.000000</td>\n",
              "      <td>2.000000</td>\n",
              "      <td>20.125000</td>\n",
              "      <td>0.000000</td>\n",
              "      <td>0.000000</td>\n",
              "      <td>7.910400</td>\n",
              "    </tr>\n",
              "    <tr>\n",
              "      <th>50%</th>\n",
              "      <td>446.000000</td>\n",
              "      <td>0.000000</td>\n",
              "      <td>3.000000</td>\n",
              "      <td>28.000000</td>\n",
              "      <td>0.000000</td>\n",
              "      <td>0.000000</td>\n",
              "      <td>14.454200</td>\n",
              "    </tr>\n",
              "    <tr>\n",
              "      <th>75%</th>\n",
              "      <td>668.500000</td>\n",
              "      <td>1.000000</td>\n",
              "      <td>3.000000</td>\n",
              "      <td>38.000000</td>\n",
              "      <td>1.000000</td>\n",
              "      <td>0.000000</td>\n",
              "      <td>31.000000</td>\n",
              "    </tr>\n",
              "    <tr>\n",
              "      <th>max</th>\n",
              "      <td>891.000000</td>\n",
              "      <td>1.000000</td>\n",
              "      <td>3.000000</td>\n",
              "      <td>80.000000</td>\n",
              "      <td>8.000000</td>\n",
              "      <td>6.000000</td>\n",
              "      <td>512.329200</td>\n",
              "    </tr>\n",
              "  </tbody>\n",
              "</table>\n",
              "</div>"
            ],
            "text/plain": [
              "       PassengerId    Survived      Pclass  ...       SibSp       Parch        Fare\n",
              "count   891.000000  891.000000  891.000000  ...  891.000000  891.000000  891.000000\n",
              "mean    446.000000    0.383838    2.308642  ...    0.523008    0.381594   32.204208\n",
              "std     257.353842    0.486592    0.836071  ...    1.102743    0.806057   49.693429\n",
              "min       1.000000    0.000000    1.000000  ...    0.000000    0.000000    0.000000\n",
              "25%     223.500000    0.000000    2.000000  ...    0.000000    0.000000    7.910400\n",
              "50%     446.000000    0.000000    3.000000  ...    0.000000    0.000000   14.454200\n",
              "75%     668.500000    1.000000    3.000000  ...    1.000000    0.000000   31.000000\n",
              "max     891.000000    1.000000    3.000000  ...    8.000000    6.000000  512.329200\n",
              "\n",
              "[8 rows x 7 columns]"
            ]
          },
          "metadata": {
            "tags": []
          },
          "execution_count": 34
        }
      ]
    },
    {
      "cell_type": "code",
      "metadata": {
        "id": "XDtw0xVcIbUZ",
        "colab_type": "code",
        "colab": {
          "base_uri": "https://localhost:8080/",
          "height": 242
        },
        "outputId": "c5e0f277-d5f4-4ae2-ef0f-1c3a802cc0ea"
      },
      "source": [
        "#Displays the data types of each features or x variables\n",
        "TR_Data.dtypes"
      ],
      "execution_count": null,
      "outputs": [
        {
          "output_type": "execute_result",
          "data": {
            "text/plain": [
              "PassengerId      int64\n",
              "Survived         int64\n",
              "Pclass           int64\n",
              "Name            object\n",
              "Sex             object\n",
              "Age            float64\n",
              "SibSp            int64\n",
              "Parch            int64\n",
              "Ticket          object\n",
              "Fare           float64\n",
              "Cabin           object\n",
              "Embarked        object\n",
              "dtype: object"
            ]
          },
          "metadata": {
            "tags": []
          },
          "execution_count": 35
        }
      ]
    },
    {
      "cell_type": "code",
      "metadata": {
        "id": "I0b7nGyZu-ma",
        "colab_type": "code",
        "colab": {
          "base_uri": "https://localhost:8080/",
          "height": 242
        },
        "outputId": "3cbb4422-9d92-49d8-e2c4-040f63495df7"
      },
      "source": [
        "#checking the missing Value\n",
        "TR_Data.isnull().sum()"
      ],
      "execution_count": null,
      "outputs": [
        {
          "output_type": "execute_result",
          "data": {
            "text/plain": [
              "PassengerId      0\n",
              "Survived         0\n",
              "Pclass           0\n",
              "Name             0\n",
              "Sex              0\n",
              "Age            177\n",
              "SibSp            0\n",
              "Parch            0\n",
              "Ticket           0\n",
              "Fare             0\n",
              "Cabin          687\n",
              "Embarked         2\n",
              "dtype: int64"
            ]
          },
          "metadata": {
            "tags": []
          },
          "execution_count": 36
        }
      ]
    },
    {
      "cell_type": "code",
      "metadata": {
        "id": "cwXrJUeULted",
        "colab_type": "code",
        "colab": {
          "base_uri": "https://localhost:8080/",
          "height": 342
        },
        "outputId": "aebd7a0f-86ca-49f6-8dc5-ad84d1b0db52"
      },
      "source": [
        "#Using heatmap , ploting if there is any missing values are there in any of the features\n",
        "sns.heatmap(TR_Data.isnull(),yticklabels=False, cbar=False, cmap='RdYlGn')"
      ],
      "execution_count": null,
      "outputs": [
        {
          "output_type": "execute_result",
          "data": {
            "text/plain": [
              "<matplotlib.axes._subplots.AxesSubplot at 0x7fdac6dee320>"
            ]
          },
          "metadata": {
            "tags": []
          },
          "execution_count": 37
        },
        {
          "output_type": "display_data",
          "data": {
            "image/png": "[encoded data removed]",
            "text/plain": [
              "<Figure size 432x288 with 1 Axes>"
            ]
          },
          "metadata": {
            "tags": []
          }
        }
      ]
    },
    {
      "cell_type": "markdown",
      "metadata": {
        "id": "OhrUL_iv4TpM",
        "colab_type": "text"
      },
      "source": [
        "From the above heat map, it is evident that Age , and Cabin have lot of missing values"
      ]
    },
    {
      "cell_type": "code",
      "metadata": {
        "id": "V21aX2MhOXvr",
        "colab_type": "code",
        "colab": {
          "base_uri": "https://localhost:8080/",
          "height": 520
        },
        "outputId": "3df31c69-a02f-4b04-ddb4-4a1c005cfcd9"
      },
      "source": [
        "# Finding out how many people survived and how many not\n",
        "plt.figure(figsize=(10,8))\n",
        "sns.countplot(x = 'Survived' , data = TR_Data)\n"
      ],
      "execution_count": null,
      "outputs": [
        {
          "output_type": "execute_result",
          "data": {
            "text/plain": [
              "<matplotlib.axes._subplots.AxesSubplot at 0x7fdac77b6e48>"
            ]
          },
          "metadata": {
            "tags": []
          },
          "execution_count": 56
        },
        {
          "output_type": "display_data",
          "data": {
            "image/png": "[encoded data removed]",
            "text/plain": [
              "<Figure size 720x576 with 1 Axes>"
            ]
          },
          "metadata": {
            "tags": []
          }
        }
      ]
    },
    {
      "cell_type": "markdown",
      "metadata": {
        "id": "kw7a8_B14jA_",
        "colab_type": "text"
      },
      "source": [
        "From the above Graph, we can infer that the survival rate is very less. Lets find out if there is any feature which contributes to survival chance.\n",
        "\n",
        "For this Iam going to consider som eof the relevant features with can ppotentially influence the survival rates and do teh visualisation of those features.\n",
        "\n"
      ]
    },
    {
      "cell_type": "markdown",
      "metadata": {
        "id": "FlDAot1wPAO-",
        "colab_type": "text"
      },
      "source": [
        "Let find out the percentage of people who survived"
      ]
    },
    {
      "cell_type": "code",
      "metadata": {
        "id": "hXRIG-opPKfE",
        "colab_type": "code",
        "colab": {
          "base_uri": "https://localhost:8080/",
          "height": 34
        },
        "outputId": "0dcedb5e-4fd1-4a15-9fab-d8e753b0e189"
      },
      "source": [
        "print(TR_Data.Survived.sum()/TR_Data.Survived.count())"
      ],
      "execution_count": null,
      "outputs": [
        {
          "output_type": "stream",
          "text": [
            "0.3838383838383838\n"
          ],
          "name": "stdout"
        }
      ]
    },
    {
      "cell_type": "markdown",
      "metadata": {
        "id": "AUFi_0dDQOqN",
        "colab_type": "text"
      },
      "source": [
        "Only 38 % of the people survived and it is very less compared to other ship accidents and can count as one of the biggest accidents in the history.\n",
        "\n",
        "This notorious disaster cuased wide spread outrage over many factors especially unequal treatment of the three passenger classes during the evacuation. \n",
        "\n",
        "So it is important to find if there are any feature which increased survival chance\n",
        "\n",
        "Lets do the analysis of feature one by one.\n",
        "\n",
        "First lets look at the Gender and survival chance"
      ]
    },
    {
      "cell_type": "code",
      "metadata": {
        "id": "E5LgJmdvAw-6",
        "colab_type": "code",
        "colab": {
          "base_uri": "https://localhost:8080/",
          "height": 121
        },
        "outputId": "20bed259-c145-4059-f57c-3942eadf9e09"
      },
      "source": [
        "#Finding relation between Sex and survival rate\n",
        "TR_Data.groupby(['Sex','Survived'])['Survived'].count()"
      ],
      "execution_count": null,
      "outputs": [
        {
          "output_type": "execute_result",
          "data": {
            "text/plain": [
              "Sex     Survived\n",
              "female  0            81\n",
              "        1           233\n",
              "male    0           468\n",
              "        1           109\n",
              "Name: Survived, dtype: int64"
            ]
          },
          "metadata": {
            "tags": []
          },
          "execution_count": 40
        }
      ]
    },
    {
      "cell_type": "code",
      "metadata": {
        "id": "gAj9WEcsBXmQ",
        "colab_type": "code",
        "colab": {
          "base_uri": "https://localhost:8080/",
          "height": 302
        },
        "outputId": "38ac2b6f-ab42-4475-c6a4-d18764ddfc77"
      },
      "source": [
        "#Visualizing the graph for Sex Vs Survived\n",
        "sns.countplot('Sex', hue='Survived', data=TR_Data)\n"
      ],
      "execution_count": null,
      "outputs": [
        {
          "output_type": "execute_result",
          "data": {
            "text/plain": [
              "<matplotlib.axes._subplots.AxesSubplot at 0x7fdac5ae28d0>"
            ]
          },
          "metadata": {
            "tags": []
          },
          "execution_count": 41
        },
        {
          "output_type": "display_data",
          "data": {
            "image/png": "[encoded data removed]",
            "text/plain": [
              "<Figure size 432x288 with 1 Axes>"
            ]
          },
          "metadata": {
            "tags": []
          }
        }
      ]
    },
    {
      "cell_type": "code",
      "metadata": {
        "id": "AmGmKL8rTM6J",
        "colab_type": "code",
        "colab": {
          "base_uri": "https://localhost:8080/",
          "height": 52
        },
        "outputId": "5a1bf54e-fb58-4a5e-f528-e9a8587c536c"
      },
      "source": [
        "#Percentage of men and women Survived\n",
        "print(\"% of women Survived:\", TR_Data[TR_Data.Sex == 'female'].Survived.sum()/TR_Data[TR_Data.Sex =='female'].Survived.count())\n",
        "print(\"% of men survived :\", TR_Data[TR_Data.Sex == 'male'].Survived.sum()/TR_Data[TR_Data.Sex =='male'].Survived.count())\n"
      ],
      "execution_count": null,
      "outputs": [
        {
          "output_type": "stream",
          "text": [
            "% of women Survived: 0.7420382165605095\n",
            "% of men survived : 0.18890814558058924\n"
          ],
          "name": "stdout"
        }
      ]
    },
    {
      "cell_type": "code",
      "metadata": {
        "id": "L9wr0KA8Vl2O",
        "colab_type": "code",
        "colab": {
          "base_uri": "https://localhost:8080/",
          "height": 426
        },
        "outputId": "60dbd0b8-c628-4aa8-d202-5b008267eccd"
      },
      "source": [
        "#Plotting graphs of percentage of women and men survived\n",
        "\n",
        "f,ax=plt.subplots(1,2,figsize=(16,7))\n",
        "TR_Data['Survived'][TR_Data['Sex']=='male'].value_counts().plot.pie(explode=[0,0.2],autopct='%1.1f%%',ax=ax[0],shadow=True)\n",
        "TR_Data['Survived'][TR_Data['Sex']=='female'].value_counts().plot.pie(explode=[0,0.2],autopct='%1.1f%%',ax=ax[1],shadow=True)\n",
        "ax[0].set_title('Survived (male)')\n",
        "ax[1].set_title('Survived (female)')\n",
        "\n",
        "plt.show()"
      ],
      "execution_count": null,
      "outputs": [
        {
          "output_type": "display_data",
          "data": {
            "image/png": "[encoded data removed]",
            "text/plain": [
              "<Figure size 1152x504 with 2 Axes>"
            ]
          },
          "metadata": {
            "tags": []
          }
        }
      ]
    },
    {
      "cell_type": "markdown",
      "metadata": {
        "id": "xWi1ZYnTDc_O",
        "colab_type": "text"
      },
      "source": [
        "From the above graph it is evident that the Survival chance is more in females. It might be due to women are given preference and considered as vulnarable sections of society.\n",
        "\n",
        "This evaluation doesnt consider the number of children so we need to find out the number of children and percentage of children in total females to confirm that they really gave preference to Female over male or not."
      ]
    },
    {
      "cell_type": "markdown",
      "metadata": {
        "id": "hEpRqkxRS14E",
        "colab_type": "text"
      },
      "source": [
        "Now lets find out the number of children"
      ]
    },
    {
      "cell_type": "markdown",
      "metadata": {
        "id": "tjLjtuIRbpbG",
        "colab_type": "text"
      },
      "source": [
        "Binning Age into 8 groups"
      ]
    },
    {
      "cell_type": "code",
      "metadata": {
        "id": "29Nx-1HHa-zj",
        "colab_type": "code",
        "colab": {
          "base_uri": "https://localhost:8080/",
          "height": 381
        },
        "outputId": "1e04cde1-0694-4b6c-8086-74f24e60f5a6"
      },
      "source": [
        "for df in [TR_Data]:\n",
        "    df['Age_bin']=np.nan\n",
        "    for i in range(8,0,-1):\n",
        "        df.loc[ df['Age'] <= i*10, 'Age_bin'] = i\n",
        "\n",
        "print(TR_Data[['Age' , 'Age_bin']].head(20))"
      ],
      "execution_count": null,
      "outputs": [
        {
          "output_type": "stream",
          "text": [
            "     Age  Age_bin\n",
            "0   22.0      3.0\n",
            "1   38.0      4.0\n",
            "2   26.0      3.0\n",
            "3   35.0      4.0\n",
            "4   35.0      4.0\n",
            "5    NaN      NaN\n",
            "6   54.0      6.0\n",
            "7    2.0      1.0\n",
            "8   27.0      3.0\n",
            "9   14.0      2.0\n",
            "10   4.0      1.0\n",
            "11  58.0      6.0\n",
            "12  20.0      2.0\n",
            "13  39.0      4.0\n",
            "14  14.0      2.0\n",
            "15  55.0      6.0\n",
            "16   2.0      1.0\n",
            "17   NaN      NaN\n",
            "18  31.0      4.0\n",
            "19   NaN      NaN\n"
          ],
          "name": "stdout"
        }
      ]
    },
    {
      "cell_type": "code",
      "metadata": {
        "id": "FwSeRRM99Gmn",
        "colab_type": "code",
        "colab": {}
      },
      "source": [
        "TR_Data.loc[TR_Data.Age == 11]"
      ],
      "execution_count": null,
      "outputs": []
    },
    {
      "cell_type": "code",
      "metadata": {
        "id": "iNlhe_3_2Lgz",
        "colab_type": "code",
        "colab": {
          "base_uri": "https://localhost:8080/",
          "height": 386
        },
        "outputId": "57845baf-a857-49cd-b9d6-6315306fb1ae"
      },
      "source": [
        "sns.catplot('Age_bin', 'Survived', hue='Sex',kind='swarm' ,data=TR_Data)\n"
      ],
      "execution_count": null,
      "outputs": [
        {
          "output_type": "execute_result",
          "data": {
            "text/plain": [
              "<seaborn.axisgrid.FacetGrid at 0x7fdac588bda0>"
            ]
          },
          "metadata": {
            "tags": []
          },
          "execution_count": 66
        },
        {
          "output_type": "display_data",
          "data": {
            "image/png": "[encoded data removed]",
            "text/plain": [
              "<Figure size 437.975x360 with 1 Axes>"
            ]
          },
          "metadata": {
            "tags": [],
            "needs_background": "light"
          }
        }
      ]
    },
    {
      "cell_type": "markdown",
      "metadata": {
        "id": "-ppQsxk45UBz",
        "colab_type": "text"
      },
      "source": [
        "Above graph represents the Survived male consist of lot of children , We can conclude that the Survival chance was more for kids and females."
      ]
    },
    {
      "cell_type": "markdown",
      "metadata": {
        "id": "pHebRNCFiKeI",
        "colab_type": "text"
      },
      "source": [
        "Checking for duplicate values"
      ]
    },
    {
      "cell_type": "code",
      "metadata": {
        "id": "U_W2Oc3om_SQ",
        "colab_type": "code",
        "colab": {
          "base_uri": "https://localhost:8080/",
          "height": 34
        },
        "outputId": "253a0acf-9f83-4f16-bc4e-77b62f6ec667"
      },
      "source": [
        " df.duplicated(subset=['Name','Ticket','Pclass', 'Age']).any()"
      ],
      "execution_count": null,
      "outputs": [
        {
          "output_type": "execute_result",
          "data": {
            "text/plain": [
              "False"
            ]
          },
          "metadata": {
            "tags": []
          },
          "execution_count": 48
        }
      ]
    },
    {
      "cell_type": "markdown",
      "metadata": {
        "id": "xs-B-nJvngjL",
        "colab_type": "text"
      },
      "source": [
        "Above count says that there are no duplicate entries in dataset."
      ]
    },
    {
      "cell_type": "markdown",
      "metadata": {
        "id": "0COJLCk4EcrQ",
        "colab_type": "text"
      },
      "source": [
        "Now lets find out the relation between Passenger class and Survival chance"
      ]
    },
    {
      "cell_type": "code",
      "metadata": {
        "id": "ScryY2_zEliO",
        "colab_type": "code",
        "colab": {
          "base_uri": "https://localhost:8080/",
          "height": 156
        },
        "outputId": "b97b9f84-1fa9-4490-d201-af1f5ea0d99b"
      },
      "source": [
        "#Find out the relation between Pclass and Survival chance\n",
        "TR_Data.groupby(['Pclass','Survived'])['Survived'].count()"
      ],
      "execution_count": null,
      "outputs": [
        {
          "output_type": "execute_result",
          "data": {
            "text/plain": [
              "Pclass  Survived\n",
              "1       0            80\n",
              "        1           136\n",
              "2       0            97\n",
              "        1            87\n",
              "3       0           372\n",
              "        1           119\n",
              "Name: Survived, dtype: int64"
            ]
          },
          "metadata": {
            "tags": []
          },
          "execution_count": 49
        }
      ]
    },
    {
      "cell_type": "code",
      "metadata": {
        "id": "FTbiDJjRHKhP",
        "colab_type": "code",
        "colab": {
          "base_uri": "https://localhost:8080/",
          "height": 302
        },
        "outputId": "d76fcd57-108f-4e5c-d6e3-9108f0a6f9c8"
      },
      "source": [
        "#Plotting graph of Pclass vs Survived\n",
        "sns.countplot('Pclass', hue='Survived', data=TR_Data)\n"
      ],
      "execution_count": null,
      "outputs": [
        {
          "output_type": "execute_result",
          "data": {
            "text/plain": [
              "<matplotlib.axes._subplots.AxesSubplot at 0x7fdac5ac0048>"
            ]
          },
          "metadata": {
            "tags": []
          },
          "execution_count": 50
        },
        {
          "output_type": "display_data",
          "data": {
            "image/png": "[encoded data removed]",
            "text/plain": [
              "<Figure size 432x288 with 1 Axes>"
            ]
          },
          "metadata": {
            "tags": []
          }
        }
      ]
    },
    {
      "cell_type": "code",
      "metadata": {
        "id": "iRr1A947zkpq",
        "colab_type": "code",
        "colab": {
          "base_uri": "https://localhost:8080/",
          "height": 130
        },
        "outputId": "603f99d7-60b2-4569-ae2e-9cb22b9f8082"
      },
      "source": [
        "#plotting as crosstab for better understanding\n",
        "\n",
        "pd.crosstab(TR_Data.Pclass, TR_Data.Survived, margins=True).style.background_gradient(cmap='autumn_r')"
      ],
      "execution_count": null,
      "outputs": [
        {
          "output_type": "execute_result",
          "data": {
            "text/html": [
              "<style  type=\"text/css\" >\n",
              "    #T_08ea9694_b7b1_11ea_8233_0242ac1c0002row0_col0 {\n",
              "            background-color:  #ffff00;\n",
              "            color:  #000000;\n",
              "        }    #T_08ea9694_b7b1_11ea_8233_0242ac1c0002row0_col1 {\n",
              "            background-color:  #ffce00;\n",
              "            color:  #000000;\n",
              "        }    #T_08ea9694_b7b1_11ea_8233_0242ac1c0002row0_col2 {\n",
              "            background-color:  #fff400;\n",
              "            color:  #000000;\n",
              "        }    #T_08ea9694_b7b1_11ea_8233_0242ac1c0002row1_col0 {\n",
              "            background-color:  #fff600;\n",
              "            color:  #000000;\n",
              "        }    #T_08ea9694_b7b1_11ea_8233_0242ac1c0002row1_col1 {\n",
              "            background-color:  #ffff00;\n",
              "            color:  #000000;\n",
              "        }    #T_08ea9694_b7b1_11ea_8233_0242ac1c0002row1_col2 {\n",
              "            background-color:  #ffff00;\n",
              "            color:  #000000;\n",
              "        }    #T_08ea9694_b7b1_11ea_8233_0242ac1c0002row2_col0 {\n",
              "            background-color:  #ff6000;\n",
              "            color:  #000000;\n",
              "        }    #T_08ea9694_b7b1_11ea_8233_0242ac1c0002row2_col1 {\n",
              "            background-color:  #ffdf00;\n",
              "            color:  #000000;\n",
              "        }    #T_08ea9694_b7b1_11ea_8233_0242ac1c0002row2_col2 {\n",
              "            background-color:  #ff9000;\n",
              "            color:  #000000;\n",
              "        }    #T_08ea9694_b7b1_11ea_8233_0242ac1c0002row3_col0 {\n",
              "            background-color:  #ff0000;\n",
              "            color:  #f1f1f1;\n",
              "        }    #T_08ea9694_b7b1_11ea_8233_0242ac1c0002row3_col1 {\n",
              "            background-color:  #ff0000;\n",
              "            color:  #f1f1f1;\n",
              "        }    #T_08ea9694_b7b1_11ea_8233_0242ac1c0002row3_col2 {\n",
              "            background-color:  #ff0000;\n",
              "            color:  #f1f1f1;\n",
              "        }</style><table id=\"T_08ea9694_b7b1_11ea_8233_0242ac1c0002\" ><thead>    <tr>        <th class=\"index_name level0\" >Survived</th>        <th class=\"col_heading level0 col0\" >0</th>        <th class=\"col_heading level0 col1\" >1</th>        <th class=\"col_heading level0 col2\" >All</th>    </tr>    <tr>        <th class=\"index_name level0\" >Pclass</th>        <th class=\"blank\" ></th>        <th class=\"blank\" ></th>        <th class=\"blank\" ></th>    </tr></thead><tbody>\n",
              "                <tr>\n",
              "                        <th id=\"T_08ea9694_b7b1_11ea_8233_0242ac1c0002level0_row0\" class=\"row_heading level0 row0\" >1</th>\n",
              "                        <td id=\"T_08ea9694_b7b1_11ea_8233_0242ac1c0002row0_col0\" class=\"data row0 col0\" >80</td>\n",
              "                        <td id=\"T_08ea9694_b7b1_11ea_8233_0242ac1c0002row0_col1\" class=\"data row0 col1\" >136</td>\n",
              "                        <td id=\"T_08ea9694_b7b1_11ea_8233_0242ac1c0002row0_col2\" class=\"data row0 col2\" >216</td>\n",
              "            </tr>\n",
              "            <tr>\n",
              "                        <th id=\"T_08ea9694_b7b1_11ea_8233_0242ac1c0002level0_row1\" class=\"row_heading level0 row1\" >2</th>\n",
              "                        <td id=\"T_08ea9694_b7b1_11ea_8233_0242ac1c0002row1_col0\" class=\"data row1 col0\" >97</td>\n",
              "                        <td id=\"T_08ea9694_b7b1_11ea_8233_0242ac1c0002row1_col1\" class=\"data row1 col1\" >87</td>\n",
              "                        <td id=\"T_08ea9694_b7b1_11ea_8233_0242ac1c0002row1_col2\" class=\"data row1 col2\" >184</td>\n",
              "            </tr>\n",
              "            <tr>\n",
              "                        <th id=\"T_08ea9694_b7b1_11ea_8233_0242ac1c0002level0_row2\" class=\"row_heading level0 row2\" >3</th>\n",
              "                        <td id=\"T_08ea9694_b7b1_11ea_8233_0242ac1c0002row2_col0\" class=\"data row2 col0\" >372</td>\n",
              "                        <td id=\"T_08ea9694_b7b1_11ea_8233_0242ac1c0002row2_col1\" class=\"data row2 col1\" >119</td>\n",
              "                        <td id=\"T_08ea9694_b7b1_11ea_8233_0242ac1c0002row2_col2\" class=\"data row2 col2\" >491</td>\n",
              "            </tr>\n",
              "            <tr>\n",
              "                        <th id=\"T_08ea9694_b7b1_11ea_8233_0242ac1c0002level0_row3\" class=\"row_heading level0 row3\" >All</th>\n",
              "                        <td id=\"T_08ea9694_b7b1_11ea_8233_0242ac1c0002row3_col0\" class=\"data row3 col0\" >549</td>\n",
              "                        <td id=\"T_08ea9694_b7b1_11ea_8233_0242ac1c0002row3_col1\" class=\"data row3 col1\" >342</td>\n",
              "                        <td id=\"T_08ea9694_b7b1_11ea_8233_0242ac1c0002row3_col2\" class=\"data row3 col2\" >891</td>\n",
              "            </tr>\n",
              "    </tbody></table>"
            ],
            "text/plain": [
              "<pandas.io.formats.style.Styler at 0x7fdac6f46fd0>"
            ]
          },
          "metadata": {
            "tags": []
          },
          "execution_count": 24
        }
      ]
    },
    {
      "cell_type": "code",
      "metadata": {
        "id": "LolBObO60e96",
        "colab_type": "code",
        "colab": {
          "base_uri": "https://localhost:8080/",
          "height": 69
        },
        "outputId": "a1617194-adcd-4ffd-b945-dd8ea7c1c4c5"
      },
      "source": [
        "#Percentage\n",
        "\n",
        "print(\"% of survivals in Pclass=1 : \", TR_Data.Survived[TR_Data.Pclass == 1].sum()/TR_Data[TR_Data.Pclass == 1].Survived.count())\n",
        "print(\"% of survivals in Pclass=2 : \", TR_Data.Survived[TR_Data.Pclass == 2].sum()/TR_Data[TR_Data.Pclass == 2].Survived.count())\n",
        "print(\"% of survivals in Pclass=3 : \", TR_Data.Survived[TR_Data.Pclass == 3].sum()/TR_Data[TR_Data.Pclass == 3].Survived.count())"
      ],
      "execution_count": null,
      "outputs": [
        {
          "output_type": "stream",
          "text": [
            "% of survivals in Pclass=1 :  0.6296296296296297\n",
            "% of survivals in Pclass=2 :  0.47282608695652173\n",
            "% of survivals in Pclass=3 :  0.24236252545824846\n"
          ],
          "name": "stdout"
        }
      ]
    },
    {
      "cell_type": "markdown",
      "metadata": {
        "id": "je7DVMvZH2km",
        "colab_type": "text"
      },
      "source": [
        "From above Visualisation , we can infer that\n",
        "There are more number of passengers in third class and more people died in third class , reason for that might be the third class was located at the lower deck of the ship and least priority was given to them compared to two classes\n",
        "\n",
        "Survival rate was more in First class\n",
        "\n",
        "Second class has less number of passengers as well as Survival rate"
      ]
    },
    {
      "cell_type": "markdown",
      "metadata": {
        "id": "eEqjrNgiQbMx",
        "colab_type": "text"
      },
      "source": [
        "Now lets find out the relation between age and Survival chance.\n",
        "\n",
        "We have already binned the Age in 8 equal sections.\n",
        "\n",
        "We are going to do the visualization of catagorized age vs Survival chance.\n",
        "\n",
        "Initially we have seen that there are missing values in Age field which should be imputed after identifying imputation value"
      ]
    },
    {
      "cell_type": "code",
      "metadata": {
        "id": "MlECt-2PwZFB",
        "colab_type": "code",
        "colab": {
          "base_uri": "https://localhost:8080/",
          "height": 329
        },
        "outputId": "3cab2f7c-7801-4cc4-b06a-5417bf590fed"
      },
      "source": [
        "#Find out if there is any relationship between Age_bin and survival chance\n",
        "TR_Data.groupby(['Age_bin','Survived'])['Survived'].count()"
      ],
      "execution_count": null,
      "outputs": [
        {
          "output_type": "execute_result",
          "data": {
            "text/plain": [
              "Age_bin  Survived\n",
              "1.0      0            26\n",
              "         1            38\n",
              "2.0      0            71\n",
              "         1            44\n",
              "3.0      0           146\n",
              "         1            84\n",
              "4.0      0            86\n",
              "         1            69\n",
              "5.0      0            53\n",
              "         1            33\n",
              "6.0      0            25\n",
              "         1            17\n",
              "7.0      0            13\n",
              "         1             4\n",
              "8.0      0             4\n",
              "         1             1\n",
              "Name: Survived, dtype: int64"
            ]
          },
          "metadata": {
            "tags": []
          },
          "execution_count": 103
        }
      ]
    },
    {
      "cell_type": "code",
      "metadata": {
        "id": "XSAgVKARyluW",
        "colab_type": "code",
        "colab": {
          "base_uri": "https://localhost:8080/",
          "height": 296
        },
        "outputId": "33aa57c9-e294-4f94-ff11-20fb63bc6bc3"
      },
      "source": [
        "#Plotting the relation between Age_bin and Survival chance\n",
        "#plt.figure(figsize=(50,40))\n",
        "sns.swarmplot(TR_Data['Survived'],TR_Data['Age_bin'])"
      ],
      "execution_count": null,
      "outputs": [
        {
          "output_type": "execute_result",
          "data": {
            "text/plain": [
              "<matplotlib.axes._subplots.AxesSubplot at 0x7f5b57a097b8>"
            ]
          },
          "metadata": {
            "tags": []
          },
          "execution_count": 101
        },
        {
          "output_type": "display_data",
          "data": {
            "image/png": "[encoded data removed]",
            "text/plain": [
              "<Figure size 432x288 with 1 Axes>"
            ]
          },
          "metadata": {
            "tags": [],
            "needs_background": "light"
          }
        }
      ]
    },
    {
      "cell_type": "markdown",
      "metadata": {
        "id": "cT-EU1UlCJp4",
        "colab_type": "text"
      },
      "source": [
        "Age group 3 and 4 ie. from 20 to 40 have larger survival chance"
      ]
    },
    {
      "cell_type": "markdown",
      "metadata": {
        "id": "Dsy7D8QI52Dp",
        "colab_type": "text"
      },
      "source": [
        "Outliers can be neglected as there are none.\n"
      ]
    },
    {
      "cell_type": "code",
      "metadata": {
        "id": "gAFqCE6S-qXo",
        "colab_type": "code",
        "colab": {
          "base_uri": "https://localhost:8080/",
          "height": 173
        },
        "outputId": "e4de9290-dc2a-424b-ea4a-8f6eab3764b9"
      },
      "source": [
        "#Checking the mean of Age\n",
        "TR_Data['Age'].describe()"
      ],
      "execution_count": null,
      "outputs": [
        {
          "output_type": "execute_result",
          "data": {
            "text/plain": [
              "count    714.000000\n",
              "mean      29.699118\n",
              "std       14.526497\n",
              "min        0.420000\n",
              "25%       20.125000\n",
              "50%       28.000000\n",
              "75%       38.000000\n",
              "max       80.000000\n",
              "Name: Age, dtype: float64"
            ]
          },
          "metadata": {
            "tags": []
          },
          "execution_count": 25
        }
      ]
    },
    {
      "cell_type": "code",
      "metadata": {
        "id": "LI9eqX7HFLpJ",
        "colab_type": "code",
        "colab": {
          "base_uri": "https://localhost:8080/",
          "height": 173
        },
        "outputId": "2de4088a-96be-424f-b71d-30f83bb03fb5"
      },
      "source": [
        "TR_Data.skew(axis=None, skipna=None)"
      ],
      "execution_count": null,
      "outputs": [
        {
          "output_type": "execute_result",
          "data": {
            "text/plain": [
              "PassengerId    0.000000\n",
              "Survived       0.478523\n",
              "Pclass        -0.630548\n",
              "Age            0.389108\n",
              "SibSp          3.695352\n",
              "Parch          2.749117\n",
              "Fare           4.787317\n",
              "Age_bin        0.488767\n",
              "dtype: float64"
            ]
          },
          "metadata": {
            "tags": []
          },
          "execution_count": 110
        }
      ]
    },
    {
      "cell_type": "markdown",
      "metadata": {
        "id": "dQYVV8dpGPB5",
        "colab_type": "text"
      },
      "source": [
        "Above calculation specoifies that the Age has positive skewness and it is accurate to select median to replace the missing value"
      ]
    },
    {
      "cell_type": "code",
      "metadata": {
        "id": "IJUWUOQR-8i4",
        "colab_type": "code",
        "colab": {}
      },
      "source": [
        "#Replacing the missing value by median \n",
        "TR_Data['Age']=TR_Data['Age'].fillna(TR_Data['Age'].median())"
      ],
      "execution_count": null,
      "outputs": []
    },
    {
      "cell_type": "code",
      "metadata": {
        "id": "i4AllKvE_ZmM",
        "colab_type": "code",
        "colab": {
          "base_uri": "https://localhost:8080/",
          "height": 260
        },
        "outputId": "7775e2f7-f2c0-4a96-e269-5dc256f362c0"
      },
      "source": [
        "#Checking the missing value again\n",
        "TR_Data.isnull().sum()"
      ],
      "execution_count": null,
      "outputs": [
        {
          "output_type": "execute_result",
          "data": {
            "text/plain": [
              "PassengerId      0\n",
              "Survived         0\n",
              "Pclass           0\n",
              "Name             0\n",
              "Sex              0\n",
              "Age              0\n",
              "SibSp            0\n",
              "Parch            0\n",
              "Ticket           0\n",
              "Fare             0\n",
              "Cabin          687\n",
              "Embarked         2\n",
              "Age_bin        177\n",
              "dtype: int64"
            ]
          },
          "metadata": {
            "tags": []
          },
          "execution_count": 112
        }
      ]
    },
    {
      "cell_type": "code",
      "metadata": {
        "id": "x_wPGUfQMFwC",
        "colab_type": "code",
        "colab": {
          "base_uri": "https://localhost:8080/",
          "height": 302
        },
        "outputId": "3c93d584-6bbc-4e6b-bc7e-ccf6ff0dadab"
      },
      "source": [
        "sns.swarmplot(TR_Data['Survived'],TR_Data['Age_bin'])"
      ],
      "execution_count": null,
      "outputs": [
        {
          "output_type": "execute_result",
          "data": {
            "text/plain": [
              "<matplotlib.axes._subplots.AxesSubplot at 0x7fdac59338d0>"
            ]
          },
          "metadata": {
            "tags": []
          },
          "execution_count": 53
        },
        {
          "output_type": "display_data",
          "data": {
            "image/png": "[encoded data removed]",
            "text/plain": [
              "<Figure size 432x288 with 1 Axes>"
            ]
          },
          "metadata": {
            "tags": []
          }
        }
      ]
    },
    {
      "cell_type": "markdown",
      "metadata": {
        "id": "vcv4s4UbQyRI",
        "colab_type": "text"
      },
      "source": [
        "From Above visualisation , it is evident that the majority of the people who survived is from age group between 20 to 40. I believe Age group from 20 - 40 is considered as the most healthy period of a human life hence, while alloting seats in lifeboats , they would have considered this factor."
      ]
    },
    {
      "cell_type": "markdown",
      "metadata": {
        "id": "6sOxtoCSIQ_j",
        "colab_type": "text"
      },
      "source": [
        "Lets now find the relation between Age , Sex and Pclass"
      ]
    },
    {
      "cell_type": "code",
      "metadata": {
        "id": "NwkLg5_vISdw",
        "colab_type": "code",
        "colab": {
          "base_uri": "https://localhost:8080/",
          "height": 168
        },
        "outputId": "ad173576-69c1-41f0-adc5-cca43dd7c5d6"
      },
      "source": [
        "pd.crosstab([TR_Data.Sex, TR_Data.Survived], [TR_Data.Age_bin, TR_Data.Pclass], margins=True).style.background_gradient(cmap='autumn_r')"
      ],
      "execution_count": null,
      "outputs": [
        {
          "output_type": "execute_result",
          "data": {
            "text/html": [
              "<style  type=\"text/css\" >\n",
              "    #T_bb58b710_b7b2_11ea_8233_0242ac1c0002row0_col0 {\n",
              "            background-color:  #ffaa00;\n",
              "            color:  #000000;\n",
              "        }    #T_bb58b710_b7b2_11ea_8233_0242ac1c0002row0_col1 {\n",
              "            background-color:  #ffff00;\n",
              "            color:  #000000;\n",
              "        }    #T_bb58b710_b7b2_11ea_8233_0242ac1c0002row0_col2 {\n",
              "            background-color:  #ffea00;\n",
              "            color:  #000000;\n",
              "        }    #T_bb58b710_b7b2_11ea_8233_0242ac1c0002row0_col3 {\n",
              "            background-color:  #ffff00;\n",
              "            color:  #000000;\n",
              "        }    #T_bb58b710_b7b2_11ea_8233_0242ac1c0002row0_col4 {\n",
              "            background-color:  #ffff00;\n",
              "            color:  #000000;\n",
              "        }    #T_bb58b710_b7b2_11ea_8233_0242ac1c0002row0_col5 {\n",
              "            background-color:  #ffee00;\n",
              "            color:  #000000;\n",
              "        }    #T_bb58b710_b7b2_11ea_8233_0242ac1c0002row0_col6 {\n",
              "            background-color:  #ffff00;\n",
              "            color:  #000000;\n",
              "        }    #T_bb58b710_b7b2_11ea_8233_0242ac1c0002row0_col7 {\n",
              "            background-color:  #fff300;\n",
              "            color:  #000000;\n",
              "        }    #T_bb58b710_b7b2_11ea_8233_0242ac1c0002row0_col8 {\n",
              "            background-color:  #fffb00;\n",
              "            color:  #000000;\n",
              "        }    #T_bb58b710_b7b2_11ea_8233_0242ac1c0002row0_col9 {\n",
              "            background-color:  #ffff00;\n",
              "            color:  #000000;\n",
              "        }    #T_bb58b710_b7b2_11ea_8233_0242ac1c0002row0_col10 {\n",
              "            background-color:  #ffff00;\n",
              "            color:  #000000;\n",
              "        }    #T_bb58b710_b7b2_11ea_8233_0242ac1c0002row0_col11 {\n",
              "            background-color:  #fff700;\n",
              "            color:  #000000;\n",
              "        }    #T_bb58b710_b7b2_11ea_8233_0242ac1c0002row0_col12 {\n",
              "            background-color:  #ffff00;\n",
              "            color:  #000000;\n",
              "        }    #T_bb58b710_b7b2_11ea_8233_0242ac1c0002row0_col13 {\n",
              "            background-color:  #ffff00;\n",
              "            color:  #000000;\n",
              "        }    #T_bb58b710_b7b2_11ea_8233_0242ac1c0002row0_col14 {\n",
              "            background-color:  #ffbb00;\n",
              "            color:  #000000;\n",
              "        }    #T_bb58b710_b7b2_11ea_8233_0242ac1c0002row0_col15 {\n",
              "            background-color:  #ffff00;\n",
              "            color:  #000000;\n",
              "        }    #T_bb58b710_b7b2_11ea_8233_0242ac1c0002row0_col16 {\n",
              "            background-color:  #ffea00;\n",
              "            color:  #000000;\n",
              "        }    #T_bb58b710_b7b2_11ea_8233_0242ac1c0002row0_col17 {\n",
              "            background-color:  #ffff00;\n",
              "            color:  #000000;\n",
              "        }    #T_bb58b710_b7b2_11ea_8233_0242ac1c0002row0_col18 {\n",
              "            background-color:  #ffff00;\n",
              "            color:  #000000;\n",
              "        }    #T_bb58b710_b7b2_11ea_8233_0242ac1c0002row0_col19 {\n",
              "            background-color:  #ffff00;\n",
              "            color:  #000000;\n",
              "        }    #T_bb58b710_b7b2_11ea_8233_0242ac1c0002row0_col20 {\n",
              "            background-color:  #ffff00;\n",
              "            color:  #000000;\n",
              "        }    #T_bb58b710_b7b2_11ea_8233_0242ac1c0002row0_col21 {\n",
              "            background-color:  #ffff00;\n",
              "            color:  #000000;\n",
              "        }    #T_bb58b710_b7b2_11ea_8233_0242ac1c0002row0_col22 {\n",
              "            background-color:  #ffff00;\n",
              "            color:  #000000;\n",
              "        }    #T_bb58b710_b7b2_11ea_8233_0242ac1c0002row0_col23 {\n",
              "            background-color:  #ffff00;\n",
              "            color:  #000000;\n",
              "        }    #T_bb58b710_b7b2_11ea_8233_0242ac1c0002row1_col0 {\n",
              "            background-color:  #ffff00;\n",
              "            color:  #000000;\n",
              "        }    #T_bb58b710_b7b2_11ea_8233_0242ac1c0002row1_col1 {\n",
              "            background-color:  #ff8700;\n",
              "            color:  #000000;\n",
              "        }    #T_bb58b710_b7b2_11ea_8233_0242ac1c0002row1_col2 {\n",
              "            background-color:  #ffea00;\n",
              "            color:  #000000;\n",
              "        }    #T_bb58b710_b7b2_11ea_8233_0242ac1c0002row1_col3 {\n",
              "            background-color:  #ff4700;\n",
              "            color:  #f1f1f1;\n",
              "        }    #T_bb58b710_b7b2_11ea_8233_0242ac1c0002row1_col4 {\n",
              "            background-color:  #ff8e00;\n",
              "            color:  #000000;\n",
              "        }    #T_bb58b710_b7b2_11ea_8233_0242ac1c0002row1_col5 {\n",
              "            background-color:  #ffea00;\n",
              "            color:  #000000;\n",
              "        }    #T_bb58b710_b7b2_11ea_8233_0242ac1c0002row1_col6 {\n",
              "            background-color:  #ff8300;\n",
              "            color:  #000000;\n",
              "        }    #T_bb58b710_b7b2_11ea_8233_0242ac1c0002row1_col7 {\n",
              "            background-color:  #ff9700;\n",
              "            color:  #000000;\n",
              "        }    #T_bb58b710_b7b2_11ea_8233_0242ac1c0002row1_col8 {\n",
              "            background-color:  #fffb00;\n",
              "            color:  #000000;\n",
              "        }    #T_bb58b710_b7b2_11ea_8233_0242ac1c0002row1_col9 {\n",
              "            background-color:  #ff8200;\n",
              "            color:  #000000;\n",
              "        }    #T_bb58b710_b7b2_11ea_8233_0242ac1c0002row1_col10 {\n",
              "            background-color:  #ffa400;\n",
              "            color:  #000000;\n",
              "        }    #T_bb58b710_b7b2_11ea_8233_0242ac1c0002row1_col11 {\n",
              "            background-color:  #ffff00;\n",
              "            color:  #000000;\n",
              "        }    #T_bb58b710_b7b2_11ea_8233_0242ac1c0002row1_col12 {\n",
              "            background-color:  #ffb100;\n",
              "            color:  #000000;\n",
              "        }    #T_bb58b710_b7b2_11ea_8233_0242ac1c0002row1_col13 {\n",
              "            background-color:  #ff8e00;\n",
              "            color:  #000000;\n",
              "        }    #T_bb58b710_b7b2_11ea_8233_0242ac1c0002row1_col14 {\n",
              "            background-color:  #ffff00;\n",
              "            color:  #000000;\n",
              "        }    #T_bb58b710_b7b2_11ea_8233_0242ac1c0002row1_col15 {\n",
              "            background-color:  #ff8f00;\n",
              "            color:  #000000;\n",
              "        }    #T_bb58b710_b7b2_11ea_8233_0242ac1c0002row1_col16 {\n",
              "            background-color:  #ffd500;\n",
              "            color:  #000000;\n",
              "        }    #T_bb58b710_b7b2_11ea_8233_0242ac1c0002row1_col17 {\n",
              "            background-color:  #ffff00;\n",
              "            color:  #000000;\n",
              "        }    #T_bb58b710_b7b2_11ea_8233_0242ac1c0002row1_col18 {\n",
              "            background-color:  #ffd100;\n",
              "            color:  #000000;\n",
              "        }    #T_bb58b710_b7b2_11ea_8233_0242ac1c0002row1_col19 {\n",
              "            background-color:  #ffff00;\n",
              "            color:  #000000;\n",
              "        }    #T_bb58b710_b7b2_11ea_8233_0242ac1c0002row1_col20 {\n",
              "            background-color:  #ffaa00;\n",
              "            color:  #000000;\n",
              "        }    #T_bb58b710_b7b2_11ea_8233_0242ac1c0002row1_col21 {\n",
              "            background-color:  #ffff00;\n",
              "            color:  #000000;\n",
              "        }    #T_bb58b710_b7b2_11ea_8233_0242ac1c0002row1_col22 {\n",
              "            background-color:  #ffff00;\n",
              "            color:  #000000;\n",
              "        }    #T_bb58b710_b7b2_11ea_8233_0242ac1c0002row1_col23 {\n",
              "            background-color:  #ffcb00;\n",
              "            color:  #000000;\n",
              "        }    #T_bb58b710_b7b2_11ea_8233_0242ac1c0002row2_col0 {\n",
              "            background-color:  #ffff00;\n",
              "            color:  #000000;\n",
              "        }    #T_bb58b710_b7b2_11ea_8233_0242ac1c0002row2_col1 {\n",
              "            background-color:  #ffff00;\n",
              "            color:  #000000;\n",
              "        }    #T_bb58b710_b7b2_11ea_8233_0242ac1c0002row2_col2 {\n",
              "            background-color:  #ffd500;\n",
              "            color:  #000000;\n",
              "        }    #T_bb58b710_b7b2_11ea_8233_0242ac1c0002row2_col3 {\n",
              "            background-color:  #ffd500;\n",
              "            color:  #000000;\n",
              "        }    #T_bb58b710_b7b2_11ea_8233_0242ac1c0002row2_col4 {\n",
              "            background-color:  #ff7f00;\n",
              "            color:  #000000;\n",
              "        }    #T_bb58b710_b7b2_11ea_8233_0242ac1c0002row2_col5 {\n",
              "            background-color:  #ff7100;\n",
              "            color:  #000000;\n",
              "        }    #T_bb58b710_b7b2_11ea_8233_0242ac1c0002row2_col6 {\n",
              "            background-color:  #ffc400;\n",
              "            color:  #000000;\n",
              "        }    #T_bb58b710_b7b2_11ea_8233_0242ac1c0002row2_col7 {\n",
              "            background-color:  #ff7500;\n",
              "            color:  #000000;\n",
              "        }    #T_bb58b710_b7b2_11ea_8233_0242ac1c0002row2_col8 {\n",
              "            background-color:  #ff6600;\n",
              "            color:  #000000;\n",
              "        }    #T_bb58b710_b7b2_11ea_8233_0242ac1c0002row2_col9 {\n",
              "            background-color:  #ffc100;\n",
              "            color:  #000000;\n",
              "        }    #T_bb58b710_b7b2_11ea_8233_0242ac1c0002row2_col10 {\n",
              "            background-color:  #ff7900;\n",
              "            color:  #000000;\n",
              "        }    #T_bb58b710_b7b2_11ea_8233_0242ac1c0002row2_col11 {\n",
              "            background-color:  #ff5e00;\n",
              "            color:  #000000;\n",
              "        }    #T_bb58b710_b7b2_11ea_8233_0242ac1c0002row2_col12 {\n",
              "            background-color:  #ff9c00;\n",
              "            color:  #000000;\n",
              "        }    #T_bb58b710_b7b2_11ea_8233_0242ac1c0002row2_col13 {\n",
              "            background-color:  #ff9c00;\n",
              "            color:  #000000;\n",
              "        }    #T_bb58b710_b7b2_11ea_8233_0242ac1c0002row2_col14 {\n",
              "            background-color:  #ff5500;\n",
              "            color:  #000000;\n",
              "        }    #T_bb58b710_b7b2_11ea_8233_0242ac1c0002row2_col15 {\n",
              "            background-color:  #ff9900;\n",
              "            color:  #000000;\n",
              "        }    #T_bb58b710_b7b2_11ea_8233_0242ac1c0002row2_col16 {\n",
              "            background-color:  #ff3f00;\n",
              "            color:  #f1f1f1;\n",
              "        }    #T_bb58b710_b7b2_11ea_8233_0242ac1c0002row2_col17 {\n",
              "            background-color:  #ff0000;\n",
              "            color:  #f1f1f1;\n",
              "        }    #T_bb58b710_b7b2_11ea_8233_0242ac1c0002row2_col18 {\n",
              "            background-color:  #ff2e00;\n",
              "            color:  #f1f1f1;\n",
              "        }    #T_bb58b710_b7b2_11ea_8233_0242ac1c0002row2_col19 {\n",
              "            background-color:  #ff5500;\n",
              "            color:  #000000;\n",
              "        }    #T_bb58b710_b7b2_11ea_8233_0242ac1c0002row2_col20 {\n",
              "            background-color:  #ff5500;\n",
              "            color:  #000000;\n",
              "        }    #T_bb58b710_b7b2_11ea_8233_0242ac1c0002row2_col21 {\n",
              "            background-color:  #ff5500;\n",
              "            color:  #000000;\n",
              "        }    #T_bb58b710_b7b2_11ea_8233_0242ac1c0002row2_col22 {\n",
              "            background-color:  #ff0000;\n",
              "            color:  #f1f1f1;\n",
              "        }    #T_bb58b710_b7b2_11ea_8233_0242ac1c0002row2_col23 {\n",
              "            background-color:  #ff8b00;\n",
              "            color:  #000000;\n",
              "        }    #T_bb58b710_b7b2_11ea_8233_0242ac1c0002row3_col0 {\n",
              "            background-color:  #ff5500;\n",
              "            color:  #000000;\n",
              "        }    #T_bb58b710_b7b2_11ea_8233_0242ac1c0002row3_col1 {\n",
              "            background-color:  #ff7800;\n",
              "            color:  #000000;\n",
              "        }    #T_bb58b710_b7b2_11ea_8233_0242ac1c0002row3_col2 {\n",
              "            background-color:  #ffff00;\n",
              "            color:  #000000;\n",
              "        }    #T_bb58b710_b7b2_11ea_8233_0242ac1c0002row3_col3 {\n",
              "            background-color:  #ffe300;\n",
              "            color:  #000000;\n",
              "        }    #T_bb58b710_b7b2_11ea_8233_0242ac1c0002row3_col4 {\n",
              "            background-color:  #fff100;\n",
              "            color:  #000000;\n",
              "        }    #T_bb58b710_b7b2_11ea_8233_0242ac1c0002row3_col5 {\n",
              "            background-color:  #ffff00;\n",
              "            color:  #000000;\n",
              "        }    #T_bb58b710_b7b2_11ea_8233_0242ac1c0002row3_col6 {\n",
              "            background-color:  #ffcb00;\n",
              "            color:  #000000;\n",
              "        }    #T_bb58b710_b7b2_11ea_8233_0242ac1c0002row3_col7 {\n",
              "            background-color:  #ffff00;\n",
              "            color:  #000000;\n",
              "        }    #T_bb58b710_b7b2_11ea_8233_0242ac1c0002row3_col8 {\n",
              "            background-color:  #ffff00;\n",
              "            color:  #000000;\n",
              "        }    #T_bb58b710_b7b2_11ea_8233_0242ac1c0002row3_col9 {\n",
              "            background-color:  #ffbc00;\n",
              "            color:  #000000;\n",
              "        }    #T_bb58b710_b7b2_11ea_8233_0242ac1c0002row3_col10 {\n",
              "            background-color:  #fff300;\n",
              "            color:  #000000;\n",
              "        }    #T_bb58b710_b7b2_11ea_8233_0242ac1c0002row3_col11 {\n",
              "            background-color:  #fffb00;\n",
              "            color:  #000000;\n",
              "        }    #T_bb58b710_b7b2_11ea_8233_0242ac1c0002row3_col12 {\n",
              "            background-color:  #ffc700;\n",
              "            color:  #000000;\n",
              "        }    #T_bb58b710_b7b2_11ea_8233_0242ac1c0002row3_col13 {\n",
              "            background-color:  #ffff00;\n",
              "            color:  #000000;\n",
              "        }    #T_bb58b710_b7b2_11ea_8233_0242ac1c0002row3_col14 {\n",
              "            background-color:  #ffee00;\n",
              "            color:  #000000;\n",
              "        }    #T_bb58b710_b7b2_11ea_8233_0242ac1c0002row3_col15 {\n",
              "            background-color:  #ffd700;\n",
              "            color:  #000000;\n",
              "        }    #T_bb58b710_b7b2_11ea_8233_0242ac1c0002row3_col16 {\n",
              "            background-color:  #ffff00;\n",
              "            color:  #000000;\n",
              "        }    #T_bb58b710_b7b2_11ea_8233_0242ac1c0002row3_col17 {\n",
              "            background-color:  #ffff00;\n",
              "            color:  #000000;\n",
              "        }    #T_bb58b710_b7b2_11ea_8233_0242ac1c0002row3_col18 {\n",
              "            background-color:  #ffff00;\n",
              "            color:  #000000;\n",
              "        }    #T_bb58b710_b7b2_11ea_8233_0242ac1c0002row3_col19 {\n",
              "            background-color:  #ffaa00;\n",
              "            color:  #000000;\n",
              "        }    #T_bb58b710_b7b2_11ea_8233_0242ac1c0002row3_col20 {\n",
              "            background-color:  #ffff00;\n",
              "            color:  #000000;\n",
              "        }    #T_bb58b710_b7b2_11ea_8233_0242ac1c0002row3_col21 {\n",
              "            background-color:  #ffaa00;\n",
              "            color:  #000000;\n",
              "        }    #T_bb58b710_b7b2_11ea_8233_0242ac1c0002row3_col22 {\n",
              "            background-color:  #ffff00;\n",
              "            color:  #000000;\n",
              "        }    #T_bb58b710_b7b2_11ea_8233_0242ac1c0002row3_col23 {\n",
              "            background-color:  #fff400;\n",
              "            color:  #000000;\n",
              "        }    #T_bb58b710_b7b2_11ea_8233_0242ac1c0002row4_col0 {\n",
              "            background-color:  #ff0000;\n",
              "            color:  #f1f1f1;\n",
              "        }    #T_bb58b710_b7b2_11ea_8233_0242ac1c0002row4_col1 {\n",
              "            background-color:  #ff0000;\n",
              "            color:  #f1f1f1;\n",
              "        }    #T_bb58b710_b7b2_11ea_8233_0242ac1c0002row4_col2 {\n",
              "            background-color:  #ff0000;\n",
              "            color:  #f1f1f1;\n",
              "        }    #T_bb58b710_b7b2_11ea_8233_0242ac1c0002row4_col3 {\n",
              "            background-color:  #ff0000;\n",
              "            color:  #f1f1f1;\n",
              "        }    #T_bb58b710_b7b2_11ea_8233_0242ac1c0002row4_col4 {\n",
              "            background-color:  #ff0000;\n",
              "            color:  #f1f1f1;\n",
              "        }    #T_bb58b710_b7b2_11ea_8233_0242ac1c0002row4_col5 {\n",
              "            background-color:  #ff0000;\n",
              "            color:  #f1f1f1;\n",
              "        }    #T_bb58b710_b7b2_11ea_8233_0242ac1c0002row4_col6 {\n",
              "            background-color:  #ff0000;\n",
              "            color:  #f1f1f1;\n",
              "        }    #T_bb58b710_b7b2_11ea_8233_0242ac1c0002row4_col7 {\n",
              "            background-color:  #ff0000;\n",
              "            color:  #f1f1f1;\n",
              "        }    #T_bb58b710_b7b2_11ea_8233_0242ac1c0002row4_col8 {\n",
              "            background-color:  #ff0000;\n",
              "            color:  #f1f1f1;\n",
              "        }    #T_bb58b710_b7b2_11ea_8233_0242ac1c0002row4_col9 {\n",
              "            background-color:  #ff0000;\n",
              "            color:  #f1f1f1;\n",
              "        }    #T_bb58b710_b7b2_11ea_8233_0242ac1c0002row4_col10 {\n",
              "            background-color:  #ff0000;\n",
              "            color:  #f1f1f1;\n",
              "        }    #T_bb58b710_b7b2_11ea_8233_0242ac1c0002row4_col11 {\n",
              "            background-color:  #ff0000;\n",
              "            color:  #f1f1f1;\n",
              "        }    #T_bb58b710_b7b2_11ea_8233_0242ac1c0002row4_col12 {\n",
              "            background-color:  #ff0000;\n",
              "            color:  #f1f1f1;\n",
              "        }    #T_bb58b710_b7b2_11ea_8233_0242ac1c0002row4_col13 {\n",
              "            background-color:  #ff0000;\n",
              "            color:  #f1f1f1;\n",
              "        }    #T_bb58b710_b7b2_11ea_8233_0242ac1c0002row4_col14 {\n",
              "            background-color:  #ff0000;\n",
              "            color:  #f1f1f1;\n",
              "        }    #T_bb58b710_b7b2_11ea_8233_0242ac1c0002row4_col15 {\n",
              "            background-color:  #ff0000;\n",
              "            color:  #f1f1f1;\n",
              "        }    #T_bb58b710_b7b2_11ea_8233_0242ac1c0002row4_col16 {\n",
              "            background-color:  #ff0000;\n",
              "            color:  #f1f1f1;\n",
              "        }    #T_bb58b710_b7b2_11ea_8233_0242ac1c0002row4_col17 {\n",
              "            background-color:  #ff0000;\n",
              "            color:  #f1f1f1;\n",
              "        }    #T_bb58b710_b7b2_11ea_8233_0242ac1c0002row4_col18 {\n",
              "            background-color:  #ff0000;\n",
              "            color:  #f1f1f1;\n",
              "        }    #T_bb58b710_b7b2_11ea_8233_0242ac1c0002row4_col19 {\n",
              "            background-color:  #ff0000;\n",
              "            color:  #f1f1f1;\n",
              "        }    #T_bb58b710_b7b2_11ea_8233_0242ac1c0002row4_col20 {\n",
              "            background-color:  #ff0000;\n",
              "            color:  #f1f1f1;\n",
              "        }    #T_bb58b710_b7b2_11ea_8233_0242ac1c0002row4_col21 {\n",
              "            background-color:  #ff0000;\n",
              "            color:  #f1f1f1;\n",
              "        }    #T_bb58b710_b7b2_11ea_8233_0242ac1c0002row4_col22 {\n",
              "            background-color:  #ff0000;\n",
              "            color:  #f1f1f1;\n",
              "        }    #T_bb58b710_b7b2_11ea_8233_0242ac1c0002row4_col23 {\n",
              "            background-color:  #ff0000;\n",
              "            color:  #f1f1f1;\n",
              "        }</style><table id=\"T_bb58b710_b7b2_11ea_8233_0242ac1c0002\" ><thead>    <tr>        <th class=\"blank\" ></th>        <th class=\"index_name level0\" >Age_bin</th>        <th class=\"col_heading level0 col0\" colspan=3>1.0</th>        <th class=\"col_heading level0 col3\" colspan=3>2.0</th>        <th class=\"col_heading level0 col6\" colspan=3>3.0</th>        <th class=\"col_heading level0 col9\" colspan=3>4.0</th>        <th class=\"col_heading level0 col12\" colspan=3>5.0</th>        <th class=\"col_heading level0 col15\" colspan=3>6.0</th>        <th class=\"col_heading level0 col18\" colspan=3>7.0</th>        <th class=\"col_heading level0 col21\" colspan=2>8.0</th>        <th class=\"col_heading level0 col23\" >All</th>    </tr>    <tr>        <th class=\"blank\" ></th>        <th class=\"index_name level1\" >Pclass</th>        <th class=\"col_heading level1 col0\" >1</th>        <th class=\"col_heading level1 col1\" >2</th>        <th class=\"col_heading level1 col2\" >3</th>        <th class=\"col_heading level1 col3\" >1</th>        <th class=\"col_heading level1 col4\" >2</th>        <th class=\"col_heading level1 col5\" >3</th>        <th class=\"col_heading level1 col6\" >1</th>        <th class=\"col_heading level1 col7\" >2</th>        <th class=\"col_heading level1 col8\" >3</th>        <th class=\"col_heading level1 col9\" >1</th>        <th class=\"col_heading level1 col10\" >2</th>        <th class=\"col_heading level1 col11\" >3</th>        <th class=\"col_heading level1 col12\" >1</th>        <th class=\"col_heading level1 col13\" >2</th>        <th class=\"col_heading level1 col14\" >3</th>        <th class=\"col_heading level1 col15\" >1</th>        <th class=\"col_heading level1 col16\" >2</th>        <th class=\"col_heading level1 col17\" >3</th>        <th class=\"col_heading level1 col18\" >1</th>        <th class=\"col_heading level1 col19\" >2</th>        <th class=\"col_heading level1 col20\" >3</th>        <th class=\"col_heading level1 col21\" >1</th>        <th class=\"col_heading level1 col22\" >3</th>        <th class=\"col_heading level1 col23\" ></th>    </tr>    <tr>        <th class=\"index_name level0\" >Sex</th>        <th class=\"index_name level1\" >Survived</th>        <th class=\"blank\" ></th>        <th class=\"blank\" ></th>        <th class=\"blank\" ></th>        <th class=\"blank\" ></th>        <th class=\"blank\" ></th>        <th class=\"blank\" ></th>        <th class=\"blank\" ></th>        <th class=\"blank\" ></th>        <th class=\"blank\" ></th>        <th class=\"blank\" ></th>        <th class=\"blank\" ></th>        <th class=\"blank\" ></th>        <th class=\"blank\" ></th>        <th class=\"blank\" ></th>        <th class=\"blank\" ></th>        <th class=\"blank\" ></th>        <th class=\"blank\" ></th>        <th class=\"blank\" ></th>        <th class=\"blank\" ></th>        <th class=\"blank\" ></th>        <th class=\"blank\" ></th>        <th class=\"blank\" ></th>        <th class=\"blank\" ></th>        <th class=\"blank\" ></th>    </tr></thead><tbody>\n",
              "                <tr>\n",
              "                        <th id=\"T_bb58b710_b7b2_11ea_8233_0242ac1c0002level0_row0\" class=\"row_heading level0 row0\" rowspan=2>female</th>\n",
              "                        <th id=\"T_bb58b710_b7b2_11ea_8233_0242ac1c0002level1_row0\" class=\"row_heading level1 row0\" >0</th>\n",
              "                        <td id=\"T_bb58b710_b7b2_11ea_8233_0242ac1c0002row0_col0\" class=\"data row0 col0\" >1</td>\n",
              "                        <td id=\"T_bb58b710_b7b2_11ea_8233_0242ac1c0002row0_col1\" class=\"data row0 col1\" >0</td>\n",
              "                        <td id=\"T_bb58b710_b7b2_11ea_8233_0242ac1c0002row0_col2\" class=\"data row0 col2\" >11</td>\n",
              "                        <td id=\"T_bb58b710_b7b2_11ea_8233_0242ac1c0002row0_col3\" class=\"data row0 col3\" >0</td>\n",
              "                        <td id=\"T_bb58b710_b7b2_11ea_8233_0242ac1c0002row0_col4\" class=\"data row0 col4\" >0</td>\n",
              "                        <td id=\"T_bb58b710_b7b2_11ea_8233_0242ac1c0002row0_col5\" class=\"data row0 col5\" >12</td>\n",
              "                        <td id=\"T_bb58b710_b7b2_11ea_8233_0242ac1c0002row0_col6\" class=\"data row0 col6\" >1</td>\n",
              "                        <td id=\"T_bb58b710_b7b2_11ea_8233_0242ac1c0002row0_col7\" class=\"data row0 col7\" >3</td>\n",
              "                        <td id=\"T_bb58b710_b7b2_11ea_8233_0242ac1c0002row0_col8\" class=\"data row0 col8\" >16</td>\n",
              "                        <td id=\"T_bb58b710_b7b2_11ea_8233_0242ac1c0002row0_col9\" class=\"data row0 col9\" >0</td>\n",
              "                        <td id=\"T_bb58b710_b7b2_11ea_8233_0242ac1c0002row0_col10\" class=\"data row0 col10\" >1</td>\n",
              "                        <td id=\"T_bb58b710_b7b2_11ea_8233_0242ac1c0002row0_col11\" class=\"data row0 col11\" >8</td>\n",
              "                        <td id=\"T_bb58b710_b7b2_11ea_8233_0242ac1c0002row0_col12\" class=\"data row0 col12\" >1</td>\n",
              "                        <td id=\"T_bb58b710_b7b2_11ea_8233_0242ac1c0002row0_col13\" class=\"data row0 col13\" >1</td>\n",
              "                        <td id=\"T_bb58b710_b7b2_11ea_8233_0242ac1c0002row0_col14\" class=\"data row0 col14\" >8</td>\n",
              "                        <td id=\"T_bb58b710_b7b2_11ea_8233_0242ac1c0002row0_col15\" class=\"data row0 col15\" >0</td>\n",
              "                        <td id=\"T_bb58b710_b7b2_11ea_8233_0242ac1c0002row0_col16\" class=\"data row0 col16\" >1</td>\n",
              "                        <td id=\"T_bb58b710_b7b2_11ea_8233_0242ac1c0002row0_col17\" class=\"data row0 col17\" >0</td>\n",
              "                        <td id=\"T_bb58b710_b7b2_11ea_8233_0242ac1c0002row0_col18\" class=\"data row0 col18\" >0</td>\n",
              "                        <td id=\"T_bb58b710_b7b2_11ea_8233_0242ac1c0002row0_col19\" class=\"data row0 col19\" >0</td>\n",
              "                        <td id=\"T_bb58b710_b7b2_11ea_8233_0242ac1c0002row0_col20\" class=\"data row0 col20\" >0</td>\n",
              "                        <td id=\"T_bb58b710_b7b2_11ea_8233_0242ac1c0002row0_col21\" class=\"data row0 col21\" >0</td>\n",
              "                        <td id=\"T_bb58b710_b7b2_11ea_8233_0242ac1c0002row0_col22\" class=\"data row0 col22\" >0</td>\n",
              "                        <td id=\"T_bb58b710_b7b2_11ea_8233_0242ac1c0002row0_col23\" class=\"data row0 col23\" >64</td>\n",
              "            </tr>\n",
              "            <tr>\n",
              "                                <th id=\"T_bb58b710_b7b2_11ea_8233_0242ac1c0002level1_row1\" class=\"row_heading level1 row1\" >1</th>\n",
              "                        <td id=\"T_bb58b710_b7b2_11ea_8233_0242ac1c0002row1_col0\" class=\"data row1 col0\" >0</td>\n",
              "                        <td id=\"T_bb58b710_b7b2_11ea_8233_0242ac1c0002row1_col1\" class=\"data row1 col1\" >8</td>\n",
              "                        <td id=\"T_bb58b710_b7b2_11ea_8233_0242ac1c0002row1_col2\" class=\"data row1 col2\" >11</td>\n",
              "                        <td id=\"T_bb58b710_b7b2_11ea_8233_0242ac1c0002row1_col3\" class=\"data row1 col3\" >13</td>\n",
              "                        <td id=\"T_bb58b710_b7b2_11ea_8233_0242ac1c0002row1_col4\" class=\"data row1 col4\" >8</td>\n",
              "                        <td id=\"T_bb58b710_b7b2_11ea_8233_0242ac1c0002row1_col5\" class=\"data row1 col5\" >13</td>\n",
              "                        <td id=\"T_bb58b710_b7b2_11ea_8233_0242ac1c0002row1_col6\" class=\"data row1 col6\" >20</td>\n",
              "                        <td id=\"T_bb58b710_b7b2_11ea_8233_0242ac1c0002row1_col7\" class=\"data row1 col7\" >25</td>\n",
              "                        <td id=\"T_bb58b710_b7b2_11ea_8233_0242ac1c0002row1_col8\" class=\"data row1 col8\" >16</td>\n",
              "                        <td id=\"T_bb58b710_b7b2_11ea_8233_0242ac1c0002row1_col9\" class=\"data row1 col9\" >24</td>\n",
              "                        <td id=\"T_bb58b710_b7b2_11ea_8233_0242ac1c0002row1_col10\" class=\"data row1 col10\" >16</td>\n",
              "                        <td id=\"T_bb58b710_b7b2_11ea_8233_0242ac1c0002row1_col11\" class=\"data row1 col11\" >6</td>\n",
              "                        <td id=\"T_bb58b710_b7b2_11ea_8233_0242ac1c0002row1_col12\" class=\"data row1 col12\" >12</td>\n",
              "                        <td id=\"T_bb58b710_b7b2_11ea_8233_0242ac1c0002row1_col13\" class=\"data row1 col13\" >9</td>\n",
              "                        <td id=\"T_bb58b710_b7b2_11ea_8233_0242ac1c0002row1_col14\" class=\"data row1 col14\" >0</td>\n",
              "                        <td id=\"T_bb58b710_b7b2_11ea_8233_0242ac1c0002row1_col15\" class=\"data row1 col15\" >11</td>\n",
              "                        <td id=\"T_bb58b710_b7b2_11ea_8233_0242ac1c0002row1_col16\" class=\"data row1 col16\" >2</td>\n",
              "                        <td id=\"T_bb58b710_b7b2_11ea_8233_0242ac1c0002row1_col17\" class=\"data row1 col17\" >0</td>\n",
              "                        <td id=\"T_bb58b710_b7b2_11ea_8233_0242ac1c0002row1_col18\" class=\"data row1 col18\" >2</td>\n",
              "                        <td id=\"T_bb58b710_b7b2_11ea_8233_0242ac1c0002row1_col19\" class=\"data row1 col19\" >0</td>\n",
              "                        <td id=\"T_bb58b710_b7b2_11ea_8233_0242ac1c0002row1_col20\" class=\"data row1 col20\" >1</td>\n",
              "                        <td id=\"T_bb58b710_b7b2_11ea_8233_0242ac1c0002row1_col21\" class=\"data row1 col21\" >0</td>\n",
              "                        <td id=\"T_bb58b710_b7b2_11ea_8233_0242ac1c0002row1_col22\" class=\"data row1 col22\" >0</td>\n",
              "                        <td id=\"T_bb58b710_b7b2_11ea_8233_0242ac1c0002row1_col23\" class=\"data row1 col23\" >197</td>\n",
              "            </tr>\n",
              "            <tr>\n",
              "                        <th id=\"T_bb58b710_b7b2_11ea_8233_0242ac1c0002level0_row2\" class=\"row_heading level0 row2\" rowspan=2>male</th>\n",
              "                        <th id=\"T_bb58b710_b7b2_11ea_8233_0242ac1c0002level1_row2\" class=\"row_heading level1 row2\" >0</th>\n",
              "                        <td id=\"T_bb58b710_b7b2_11ea_8233_0242ac1c0002row2_col0\" class=\"data row2 col0\" >0</td>\n",
              "                        <td id=\"T_bb58b710_b7b2_11ea_8233_0242ac1c0002row2_col1\" class=\"data row2 col1\" >0</td>\n",
              "                        <td id=\"T_bb58b710_b7b2_11ea_8233_0242ac1c0002row2_col2\" class=\"data row2 col2\" >14</td>\n",
              "                        <td id=\"T_bb58b710_b7b2_11ea_8233_0242ac1c0002row2_col3\" class=\"data row2 col3\" >3</td>\n",
              "                        <td id=\"T_bb58b710_b7b2_11ea_8233_0242ac1c0002row2_col4\" class=\"data row2 col4\" >9</td>\n",
              "                        <td id=\"T_bb58b710_b7b2_11ea_8233_0242ac1c0002row2_col5\" class=\"data row2 col5\" >47</td>\n",
              "                        <td id=\"T_bb58b710_b7b2_11ea_8233_0242ac1c0002row2_col6\" class=\"data row2 col6\" >10</td>\n",
              "                        <td id=\"T_bb58b710_b7b2_11ea_8233_0242ac1c0002row2_col7\" class=\"data row2 col7\" >33</td>\n",
              "                        <td id=\"T_bb58b710_b7b2_11ea_8233_0242ac1c0002row2_col8\" class=\"data row2 col8\" >83</td>\n",
              "                        <td id=\"T_bb58b710_b7b2_11ea_8233_0242ac1c0002row2_col9\" class=\"data row2 col9\" >12</td>\n",
              "                        <td id=\"T_bb58b710_b7b2_11ea_8233_0242ac1c0002row2_col10\" class=\"data row2 col10\" >23</td>\n",
              "                        <td id=\"T_bb58b710_b7b2_11ea_8233_0242ac1c0002row2_col11\" class=\"data row2 col11\" >42</td>\n",
              "                        <td id=\"T_bb58b710_b7b2_11ea_8233_0242ac1c0002row2_col12\" class=\"data row2 col12\" >15</td>\n",
              "                        <td id=\"T_bb58b710_b7b2_11ea_8233_0242ac1c0002row2_col13\" class=\"data row2 col13\" >8</td>\n",
              "                        <td id=\"T_bb58b710_b7b2_11ea_8233_0242ac1c0002row2_col14\" class=\"data row2 col14\" >20</td>\n",
              "                        <td id=\"T_bb58b710_b7b2_11ea_8233_0242ac1c0002row2_col15\" class=\"data row2 col15\" >10</td>\n",
              "                        <td id=\"T_bb58b710_b7b2_11ea_8233_0242ac1c0002row2_col16\" class=\"data row2 col16\" >9</td>\n",
              "                        <td id=\"T_bb58b710_b7b2_11ea_8233_0242ac1c0002row2_col17\" class=\"data row2 col17\" >5</td>\n",
              "                        <td id=\"T_bb58b710_b7b2_11ea_8233_0242ac1c0002row2_col18\" class=\"data row2 col18\" >9</td>\n",
              "                        <td id=\"T_bb58b710_b7b2_11ea_8233_0242ac1c0002row2_col19\" class=\"data row2 col19\" >2</td>\n",
              "                        <td id=\"T_bb58b710_b7b2_11ea_8233_0242ac1c0002row2_col20\" class=\"data row2 col20\" >2</td>\n",
              "                        <td id=\"T_bb58b710_b7b2_11ea_8233_0242ac1c0002row2_col21\" class=\"data row2 col21\" >2</td>\n",
              "                        <td id=\"T_bb58b710_b7b2_11ea_8233_0242ac1c0002row2_col22\" class=\"data row2 col22\" >2</td>\n",
              "                        <td id=\"T_bb58b710_b7b2_11ea_8233_0242ac1c0002row2_col23\" class=\"data row2 col23\" >360</td>\n",
              "            </tr>\n",
              "            <tr>\n",
              "                                <th id=\"T_bb58b710_b7b2_11ea_8233_0242ac1c0002level1_row3\" class=\"row_heading level1 row3\" >1</th>\n",
              "                        <td id=\"T_bb58b710_b7b2_11ea_8233_0242ac1c0002row3_col0\" class=\"data row3 col0\" >2</td>\n",
              "                        <td id=\"T_bb58b710_b7b2_11ea_8233_0242ac1c0002row3_col1\" class=\"data row3 col1\" >9</td>\n",
              "                        <td id=\"T_bb58b710_b7b2_11ea_8233_0242ac1c0002row3_col2\" class=\"data row3 col2\" >8</td>\n",
              "                        <td id=\"T_bb58b710_b7b2_11ea_8233_0242ac1c0002row3_col3\" class=\"data row3 col3\" >2</td>\n",
              "                        <td id=\"T_bb58b710_b7b2_11ea_8233_0242ac1c0002row3_col4\" class=\"data row3 col4\" >1</td>\n",
              "                        <td id=\"T_bb58b710_b7b2_11ea_8233_0242ac1c0002row3_col5\" class=\"data row3 col5\" >7</td>\n",
              "                        <td id=\"T_bb58b710_b7b2_11ea_8233_0242ac1c0002row3_col6\" class=\"data row3 col6\" >9</td>\n",
              "                        <td id=\"T_bb58b710_b7b2_11ea_8233_0242ac1c0002row3_col7\" class=\"data row3 col7\" >0</td>\n",
              "                        <td id=\"T_bb58b710_b7b2_11ea_8233_0242ac1c0002row3_col8\" class=\"data row3 col8\" >14</td>\n",
              "                        <td id=\"T_bb58b710_b7b2_11ea_8233_0242ac1c0002row3_col9\" class=\"data row3 col9\" >13</td>\n",
              "                        <td id=\"T_bb58b710_b7b2_11ea_8233_0242ac1c0002row3_col10\" class=\"data row3 col10\" >3</td>\n",
              "                        <td id=\"T_bb58b710_b7b2_11ea_8233_0242ac1c0002row3_col11\" class=\"data row3 col11\" >7</td>\n",
              "                        <td id=\"T_bb58b710_b7b2_11ea_8233_0242ac1c0002row3_col12\" class=\"data row3 col12\" >9</td>\n",
              "                        <td id=\"T_bb58b710_b7b2_11ea_8233_0242ac1c0002row3_col13\" class=\"data row3 col13\" >1</td>\n",
              "                        <td id=\"T_bb58b710_b7b2_11ea_8233_0242ac1c0002row3_col14\" class=\"data row3 col14\" >2</td>\n",
              "                        <td id=\"T_bb58b710_b7b2_11ea_8233_0242ac1c0002row3_col15\" class=\"data row3 col15\" >4</td>\n",
              "                        <td id=\"T_bb58b710_b7b2_11ea_8233_0242ac1c0002row3_col16\" class=\"data row3 col16\" >0</td>\n",
              "                        <td id=\"T_bb58b710_b7b2_11ea_8233_0242ac1c0002row3_col17\" class=\"data row3 col17\" >0</td>\n",
              "                        <td id=\"T_bb58b710_b7b2_11ea_8233_0242ac1c0002row3_col18\" class=\"data row3 col18\" >0</td>\n",
              "                        <td id=\"T_bb58b710_b7b2_11ea_8233_0242ac1c0002row3_col19\" class=\"data row3 col19\" >1</td>\n",
              "                        <td id=\"T_bb58b710_b7b2_11ea_8233_0242ac1c0002row3_col20\" class=\"data row3 col20\" >0</td>\n",
              "                        <td id=\"T_bb58b710_b7b2_11ea_8233_0242ac1c0002row3_col21\" class=\"data row3 col21\" >1</td>\n",
              "                        <td id=\"T_bb58b710_b7b2_11ea_8233_0242ac1c0002row3_col22\" class=\"data row3 col22\" >0</td>\n",
              "                        <td id=\"T_bb58b710_b7b2_11ea_8233_0242ac1c0002row3_col23\" class=\"data row3 col23\" >93</td>\n",
              "            </tr>\n",
              "            <tr>\n",
              "                        <th id=\"T_bb58b710_b7b2_11ea_8233_0242ac1c0002level0_row4\" class=\"row_heading level0 row4\" >All</th>\n",
              "                        <th id=\"T_bb58b710_b7b2_11ea_8233_0242ac1c0002level1_row4\" class=\"row_heading level1 row4\" ></th>\n",
              "                        <td id=\"T_bb58b710_b7b2_11ea_8233_0242ac1c0002row4_col0\" class=\"data row4 col0\" >3</td>\n",
              "                        <td id=\"T_bb58b710_b7b2_11ea_8233_0242ac1c0002row4_col1\" class=\"data row4 col1\" >17</td>\n",
              "                        <td id=\"T_bb58b710_b7b2_11ea_8233_0242ac1c0002row4_col2\" class=\"data row4 col2\" >44</td>\n",
              "                        <td id=\"T_bb58b710_b7b2_11ea_8233_0242ac1c0002row4_col3\" class=\"data row4 col3\" >18</td>\n",
              "                        <td id=\"T_bb58b710_b7b2_11ea_8233_0242ac1c0002row4_col4\" class=\"data row4 col4\" >18</td>\n",
              "                        <td id=\"T_bb58b710_b7b2_11ea_8233_0242ac1c0002row4_col5\" class=\"data row4 col5\" >79</td>\n",
              "                        <td id=\"T_bb58b710_b7b2_11ea_8233_0242ac1c0002row4_col6\" class=\"data row4 col6\" >40</td>\n",
              "                        <td id=\"T_bb58b710_b7b2_11ea_8233_0242ac1c0002row4_col7\" class=\"data row4 col7\" >61</td>\n",
              "                        <td id=\"T_bb58b710_b7b2_11ea_8233_0242ac1c0002row4_col8\" class=\"data row4 col8\" >129</td>\n",
              "                        <td id=\"T_bb58b710_b7b2_11ea_8233_0242ac1c0002row4_col9\" class=\"data row4 col9\" >49</td>\n",
              "                        <td id=\"T_bb58b710_b7b2_11ea_8233_0242ac1c0002row4_col10\" class=\"data row4 col10\" >43</td>\n",
              "                        <td id=\"T_bb58b710_b7b2_11ea_8233_0242ac1c0002row4_col11\" class=\"data row4 col11\" >63</td>\n",
              "                        <td id=\"T_bb58b710_b7b2_11ea_8233_0242ac1c0002row4_col12\" class=\"data row4 col12\" >37</td>\n",
              "                        <td id=\"T_bb58b710_b7b2_11ea_8233_0242ac1c0002row4_col13\" class=\"data row4 col13\" >19</td>\n",
              "                        <td id=\"T_bb58b710_b7b2_11ea_8233_0242ac1c0002row4_col14\" class=\"data row4 col14\" >30</td>\n",
              "                        <td id=\"T_bb58b710_b7b2_11ea_8233_0242ac1c0002row4_col15\" class=\"data row4 col15\" >25</td>\n",
              "                        <td id=\"T_bb58b710_b7b2_11ea_8233_0242ac1c0002row4_col16\" class=\"data row4 col16\" >12</td>\n",
              "                        <td id=\"T_bb58b710_b7b2_11ea_8233_0242ac1c0002row4_col17\" class=\"data row4 col17\" >5</td>\n",
              "                        <td id=\"T_bb58b710_b7b2_11ea_8233_0242ac1c0002row4_col18\" class=\"data row4 col18\" >11</td>\n",
              "                        <td id=\"T_bb58b710_b7b2_11ea_8233_0242ac1c0002row4_col19\" class=\"data row4 col19\" >3</td>\n",
              "                        <td id=\"T_bb58b710_b7b2_11ea_8233_0242ac1c0002row4_col20\" class=\"data row4 col20\" >3</td>\n",
              "                        <td id=\"T_bb58b710_b7b2_11ea_8233_0242ac1c0002row4_col21\" class=\"data row4 col21\" >3</td>\n",
              "                        <td id=\"T_bb58b710_b7b2_11ea_8233_0242ac1c0002row4_col22\" class=\"data row4 col22\" >2</td>\n",
              "                        <td id=\"T_bb58b710_b7b2_11ea_8233_0242ac1c0002row4_col23\" class=\"data row4 col23\" >714</td>\n",
              "            </tr>\n",
              "    </tbody></table>"
            ],
            "text/plain": [
              "<pandas.io.formats.style.Styler at 0x7fdac6ebedd8>"
            ]
          },
          "metadata": {
            "tags": []
          },
          "execution_count": 27
        }
      ]
    },
    {
      "cell_type": "markdown",
      "metadata": {
        "id": "AdU_ErrUY67u",
        "colab_type": "text"
      },
      "source": [
        "\n",
        "**Inference from Above graph:**\n",
        "\n",
        "**Age group < 10**\n",
        "All Male Children below age 10 who travelled in first and second class survived. \n",
        "Majority ie. 88% of the female children below 10 years in Class 1 and 2 also survived.\n",
        "\n",
        "Out of 290 survivers , 153 were between age group 20 to 40 , that contribute to 53 % of total survivals\n",
        "\n",
        "Out of 424 death , 270 people travelled in third class , and this contrubutes to 63 % of overall death.\n",
        "\n",
        "Elders were not given preference irrespective of the gender or class as we can see  all elders 90 % elders who are between 70 and 80 years of age died.\n"
      ]
    },
    {
      "cell_type": "markdown",
      "metadata": {
        "id": "Wmdto-Q9h1rS",
        "colab_type": "text"
      },
      "source": [
        "EDA is completed and the Assumption which I made initially turn out to be true.\n",
        "\n",
        "Female and children(below 10 year) who travelled in First and Second class had a higher chance of Survival."
      ]
    }
  ]
}